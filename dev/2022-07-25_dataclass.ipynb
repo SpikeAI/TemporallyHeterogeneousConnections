{
 "cells": [
  {
   "cell_type": "markdown",
   "id": "3e75607d-79f8-479b-a368-be36e90541ed",
   "metadata": {},
   "source": [
    "Following https://karpathy.github.io/2021/06/21/blockchain/, let's use dataclasses"
   ]
  },
  {
   "cell_type": "code",
   "execution_count": 9,
   "id": "2664645a-c91e-4056-8394-6743eb81b76b",
   "metadata": {},
   "outputs": [
    {
     "ename": "AssertionError",
     "evalue": "",
     "output_type": "error",
     "traceback": [
      "\u001b[0;31m---------------------------------------------------------------------------\u001b[0m",
      "\u001b[0;31mAssertionError\u001b[0m                            Traceback (most recent call last)",
      "Input \u001b[0;32mIn [9]\u001b[0m, in \u001b[0;36m<cell line: 13>\u001b[0;34m()\u001b[0m\n\u001b[1;32m     10\u001b[0m      mylist: \u001b[38;5;28mlist\u001b[39m[Point]\n\u001b[1;32m     12\u001b[0m p \u001b[38;5;241m=\u001b[39m Point(\u001b[38;5;241m10\u001b[39m, \u001b[38;5;241m20\u001b[39m)\n\u001b[0;32m---> 13\u001b[0m \u001b[38;5;28;01massert\u001b[39;00m asdict(p) \u001b[38;5;241m==\u001b[39m {\u001b[38;5;124m'\u001b[39m\u001b[38;5;124mx\u001b[39m\u001b[38;5;124m'\u001b[39m: \u001b[38;5;241m10\u001b[39m, \u001b[38;5;124m'\u001b[39m\u001b[38;5;124my\u001b[39m\u001b[38;5;124m'\u001b[39m: \u001b[38;5;241m20\u001b[39m}\n\u001b[1;32m     15\u001b[0m c \u001b[38;5;241m=\u001b[39m C([Point(\u001b[38;5;241m0\u001b[39m, \u001b[38;5;241m0\u001b[39m), Point(\u001b[38;5;241m10\u001b[39m, \u001b[38;5;241m4\u001b[39m)])\n\u001b[1;32m     16\u001b[0m \u001b[38;5;28;01massert\u001b[39;00m asdict(c) \u001b[38;5;241m==\u001b[39m {\u001b[38;5;124m'\u001b[39m\u001b[38;5;124mmylist\u001b[39m\u001b[38;5;124m'\u001b[39m: [{\u001b[38;5;124m'\u001b[39m\u001b[38;5;124mx\u001b[39m\u001b[38;5;124m'\u001b[39m: \u001b[38;5;241m0\u001b[39m, \u001b[38;5;124m'\u001b[39m\u001b[38;5;124my\u001b[39m\u001b[38;5;124m'\u001b[39m: \u001b[38;5;241m0\u001b[39m}, {\u001b[38;5;124m'\u001b[39m\u001b[38;5;124mx\u001b[39m\u001b[38;5;124m'\u001b[39m: \u001b[38;5;241m10\u001b[39m, \u001b[38;5;124m'\u001b[39m\u001b[38;5;124my\u001b[39m\u001b[38;5;124m'\u001b[39m: \u001b[38;5;241m4\u001b[39m}]}\n",
      "\u001b[0;31mAssertionError\u001b[0m: "
     ]
    }
   ],
   "source": [
    "from dataclasses import dataclass, asdict\n",
    "@dataclass\n",
    "class Point:\n",
    "    x: int\n",
    "    y: int\n",
    "\n",
    "@dataclass\n",
    "class C:\n",
    "     mylist: list[Point]\n",
    "\n",
    "p = Point(10, 20)\n",
    "assert asdict(p) == {'x': 10, 'y': 20}\n",
    "\n",
    "c = C([Point(0, 0), Point(10, 4)])\n",
    "assert asdict(c) == {'mylist': [{'x': 0, 'y': 0}, {'x': 10, 'y': 4}]}"
   ]
  },
  {
   "cell_type": "code",
   "execution_count": null,
   "id": "398757f1-f356-4f39-8daa-90415dae43b0",
   "metadata": {},
   "outputs": [],
   "source": [
    "c"
   ]
  },
  {
   "cell_type": "code",
   "execution_count": 10,
   "id": "4551fd4d-96ad-4c1b-9468-35822cefc0f6",
   "metadata": {},
   "outputs": [],
   "source": [
    "@dataclass\n",
    "class Point:\n",
    "    x: int\n",
    "    y: int\n",
    "    N_x: int = 25"
   ]
  },
  {
   "cell_type": "code",
   "execution_count": 11,
   "id": "55944c17-9655-4428-8894-f8fc0ed384b7",
   "metadata": {},
   "outputs": [],
   "source": [
    "def my_addition(self, other: Point) -> Point:\n",
    "    # adition on a torus\n",
    "    rx = (self.x + other.x) % self.N_x\n",
    "    ry = (self.y + other.y) % self.N_x\n",
    "    \n",
    "    return Point(rx, ry)"
   ]
  },
  {
   "cell_type": "code",
   "execution_count": 12,
   "id": "9a27a2ae-0ceb-4802-8f41-fbd35144fba3",
   "metadata": {},
   "outputs": [],
   "source": [
    "Point.__add__ = my_addition # monkey patch addition into the Point class"
   ]
  },
  {
   "cell_type": "code",
   "execution_count": 13,
   "id": "8e52883f-f2c6-4956-a1e1-7df4e03fe261",
   "metadata": {},
   "outputs": [
    {
     "data": {
      "text/plain": [
       "Point(x=5, y=10, N_x=25)"
      ]
     },
     "execution_count": 13,
     "metadata": {},
     "output_type": "execute_result"
    }
   ],
   "source": [
    "Point(10, 20) + Point(20, 40)\n"
   ]
  },
  {
   "cell_type": "code",
   "execution_count": null,
   "id": "ec628630-1bfb-4790-91b0-e71152a173cd",
   "metadata": {},
   "outputs": [],
   "source": []
  }
 ],
 "metadata": {
  "kernelspec": {
   "display_name": "Python 3 (ipykernel)",
   "language": "python",
   "name": "python3"
  },
  "language_info": {
   "codemirror_mode": {
    "name": "ipython",
    "version": 3
   },
   "file_extension": ".py",
   "mimetype": "text/x-python",
   "name": "python",
   "nbconvert_exporter": "python",
   "pygments_lexer": "ipython3",
   "version": "3.9.13"
  }
 },
 "nbformat": 4,
 "nbformat_minor": 5
}
