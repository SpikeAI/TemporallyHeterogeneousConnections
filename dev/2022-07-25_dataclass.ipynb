{
 "cells": [
  {
   "cell_type": "markdown",
   "id": "3e75607d-79f8-479b-a368-be36e90541ed",
   "metadata": {},
   "source": [
    "Following https://karpathy.github.io/2021/06/21/blockchain/, let's use dataclasses (https://docs.python.org/3/library/dataclasses.html)"
   ]
  },
  {
   "cell_type": "code",
   "execution_count": 1,
   "id": "2664645a-c91e-4056-8394-6743eb81b76b",
   "metadata": {},
   "outputs": [],
   "source": [
    "from dataclasses import dataclass, asdict\n",
    "@dataclass\n",
    "class Point:\n",
    "    x: int\n",
    "    y: int\n",
    "\n",
    "@dataclass\n",
    "class C:\n",
    "     mylist: list[Point]\n",
    "\n",
    "p = Point(10, 20)\n",
    "assert asdict(p) == {'x': 10, 'y': 20}\n",
    "\n",
    "c = C([Point(0, 0), Point(10, 4)])\n",
    "assert asdict(c) == {'mylist': [{'x': 0, 'y': 0}, {'x': 10, 'y': 4}]}"
   ]
  },
  {
   "cell_type": "code",
   "execution_count": 2,
   "id": "398757f1-f356-4f39-8daa-90415dae43b0",
   "metadata": {},
   "outputs": [
    {
     "data": {
      "text/plain": [
       "C(mylist=[Point(x=0, y=0), Point(x=10, y=4)])"
      ]
     },
     "execution_count": 2,
     "metadata": {},
     "output_type": "execute_result"
    }
   ],
   "source": [
    "c"
   ]
  },
  {
   "cell_type": "code",
   "execution_count": 3,
   "id": "4551fd4d-96ad-4c1b-9468-35822cefc0f6",
   "metadata": {},
   "outputs": [],
   "source": [
    "@dataclass\n",
    "class Point:\n",
    "    x: int\n",
    "    y: int\n",
    "    N_x: int = 25"
   ]
  },
  {
   "cell_type": "code",
   "execution_count": 4,
   "id": "55944c17-9655-4428-8894-f8fc0ed384b7",
   "metadata": {},
   "outputs": [],
   "source": [
    "def my_addition(self, other: Point) -> Point:\n",
    "    # adition on a torus\n",
    "    rx = (self.x + other.x) % self.N_x\n",
    "    ry = (self.y + other.y) % self.N_x\n",
    "    \n",
    "    return Point(rx, ry)"
   ]
  },
  {
   "cell_type": "code",
   "execution_count": 5,
   "id": "9a27a2ae-0ceb-4802-8f41-fbd35144fba3",
   "metadata": {},
   "outputs": [],
   "source": [
    "Point.__add__ = my_addition # monkey patch addition into the Point class"
   ]
  },
  {
   "cell_type": "code",
   "execution_count": 6,
   "id": "8e52883f-f2c6-4956-a1e1-7df4e03fe261",
   "metadata": {},
   "outputs": [
    {
     "data": {
      "text/plain": [
       "Point(x=5, y=10, N_x=25)"
      ]
     },
     "execution_count": 6,
     "metadata": {},
     "output_type": "execute_result"
    }
   ],
   "source": [
    "Point(10, 20) + Point(20, 40)\n"
   ]
  },
  {
   "cell_type": "code",
   "execution_count": null,
   "id": "ec628630-1bfb-4790-91b0-e71152a173cd",
   "metadata": {},
   "outputs": [],
   "source": []
  }
 ],
 "metadata": {
  "kernelspec": {
   "display_name": "Python 3 (ipykernel)",
   "language": "python",
   "name": "python3"
  },
  "language_info": {
   "codemirror_mode": {
    "name": "ipython",
    "version": 3
   },
   "file_extension": ".py",
   "mimetype": "text/x-python",
   "name": "python",
   "nbconvert_exporter": "python",
   "pygments_lexer": "ipython3",
   "version": "3.9.13"
  }
 },
 "nbformat": 4,
 "nbformat_minor": 5
}
