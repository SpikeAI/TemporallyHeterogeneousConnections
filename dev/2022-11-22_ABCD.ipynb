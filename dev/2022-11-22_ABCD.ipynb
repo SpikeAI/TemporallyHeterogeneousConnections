{
 "cells": [
  {
   "cell_type": "code",
   "execution_count": 1,
   "id": "cb1ab701-5294-4cd2-950b-c6005f36b94c",
   "metadata": {},
   "outputs": [],
   "source": [
    "%load_ext autoreload\n",
    "%autoreload 2"
   ]
  },
  {
   "cell_type": "code",
   "execution_count": 2,
   "id": "f75d50cc-b9bd-4729-ad8c-1573df1c0546",
   "metadata": {},
   "outputs": [],
   "source": [
    "# to install all dependencies use, uncomment the following line and restart the kernel\n",
    "# %pip install -U -r requirements.txt"
   ]
  },
  {
   "cell_type": "code",
   "execution_count": 3,
   "id": "ad4f5829-d4e8-499e-b815-50eda50f01c6",
   "metadata": {},
   "outputs": [],
   "source": [
    "datetag = None"
   ]
  },
  {
   "cell_type": "code",
   "execution_count": 4,
   "id": "27340972",
   "metadata": {},
   "outputs": [
    {
     "data": {
      "text/plain": [
       "'2022-11-22'"
      ]
     },
     "execution_count": 4,
     "metadata": {},
     "output_type": "execute_result"
    }
   ],
   "source": [
    "if datetag is None:\n",
    "    from time import strftime, gmtime\n",
    "    datetag = strftime(\"%Y-%m-%d\", gmtime())\n",
    "datetag"
   ]
  },
  {
   "cell_type": "code",
   "execution_count": 5,
   "id": "f93b8b09-de07-4895-8df9-4189beba8303",
   "metadata": {},
   "outputs": [],
   "source": [
    "datetag = '2022-11-22'"
   ]
  },
  {
   "cell_type": "markdown",
   "id": "b959c09c-3907-46cd-8c06-303c59af8597",
   "metadata": {
    "tags": []
   },
   "source": [
    "# Un/Supervised learning of Temporally Heterogeneous Connections in spiking neurons"
   ]
  },
  {
   "cell_type": "markdown",
   "id": "bf094a22",
   "metadata": {},
   "source": [
    "\n",
    "We design a model based on heterosynaptic delays. We will define in the assembly of neurons where each synapse\n",
    "is defined by a weight *ws* at different delays *τs*. See the following figure: "
   ]
  },
  {
   "cell_type": "markdown",
   "id": "14943a62-688b-4d5b-81b8-d7db324cec7c",
   "metadata": {},
   "source": [
    "**Abstract:** The response of a biological neuron depends on the precise timing of afferent spikes. This temporal aspect of the neuronal code is essential in understanding information processing in neurobiology and applies particularly well to the output of neuromorphic hardware such as event-based cameras. Though, most artificial neuronal models do not take advantage of this minute temporal dimension and here, we develop a model for the efficient detection of temporal spiking motifs based on a layer of neurons with heterogeneous delays. Indeed, the variety of synaptic delays on the dendritic tree allows to synchronize synaptic inputs as they reach the basal dendritic tree. We show this can be formalized as time-invariant logistic regression which can trained using labelled data. We apply this model for solving the specific problem of detecting motion and demonstrate its use by applying it on synthetic naturalistic videos transformed to event-based streams similar to the output of a silicon retina. In particular, we show how its accuracy may evolve as a function of the total computational load. This end-to-end event-based computational brick could help improve the performance of future Spiking Neural Network solutions currently used in neuromorphic chips."
   ]
  },
  {
   "cell_type": "code",
   "execution_count": 6,
   "id": "6486aa33",
   "metadata": {},
   "outputs": [
    {
     "data": {
      "text/plain": [
       "device(type='cpu')"
      ]
     },
     "execution_count": 6,
     "metadata": {},
     "output_type": "execute_result"
    }
   ],
   "source": [
    "import torch\n",
    "torch.set_printoptions(precision=3, linewidth=140, sci_mode=False)\n",
    "\n",
    "# if torch.backends.mps.is_available():\n",
    "#     device = torch.device('mps')\n",
    "# el\n",
    "if torch.cuda.is_available():\n",
    "    device = torch.device('cuda')\n",
    "else:\n",
    "    device = torch.device('cpu')\n",
    "device"
   ]
  },
  {
   "cell_type": "code",
   "execution_count": 7,
   "id": "c940312f",
   "metadata": {},
   "outputs": [],
   "source": [
    "import numpy as np\n",
    "phi = np.sqrt(5)/2 + 1/2\n",
    "import matplotlib\n",
    "import matplotlib.pyplot as plt\n",
    "\n",
    "import matplotlib\n",
    "subplotpars = matplotlib.figure.SubplotParams(left=0.125, right=.95, bottom=0.25, top=.975, wspace=0.05, hspace=0.05,)\n",
    "\n",
    "figpath = None\n",
    "# figpath = '../figures'\n",
    "def printfig(fig, name, ext='pdf', figpath=figpath, dpi_exp=None, bbox='tight'):\n",
    "    fig.savefig(os.path.join(figpath, name + '.' + ext), dpi = dpi_exp, bbox_inches=bbox, transparent=True)"
   ]
  },
  {
   "cell_type": "code",
   "execution_count": 8,
   "id": "872b6402",
   "metadata": {},
   "outputs": [],
   "source": [
    "if not(figpath is None):\n",
    "    %mkdir -p {figpath}"
   ]
  },
  {
   "cell_type": "code",
   "execution_count": 9,
   "id": "d4147459-e8c8-40b8-a44b-862186f0533d",
   "metadata": {},
   "outputs": [],
   "source": [
    "# https://docs.python.org/3/library/dataclasses.html?highlight=dataclass#module-dataclasses\n",
    "from dataclasses import dataclass, asdict\n",
    "\n",
    "@dataclass\n",
    "class Params:\n",
    "    datetag: str = datetag\n",
    "    N_pre: int = 64 # number of presynaptic inputs\n",
    "    N_PG_time: int = 71 # number of timesteps in PG, must be a odd number for convolutions\n",
    "    N_PGs: int = 35 # number of polychronous groups\n",
    "    E_PG: float = 10. # excitability range of PGs\n",
    "    p_PG: float = .001 # ratio of non-zero coefficients in PGs\n",
    "    tau_decay: float = .4 # time constant for the decay of the PG enveloppe\n",
    "    tau_rise: float = .05 # time constant for the rise of the PG enveloppe\n",
    "\n",
    "    ## Raster plots\n",
    "    N_time: int = 1000# number of timesteps for the raster plot\n",
    "    N_trials: int = 10# number of trials\n",
    "    p_B: int = .001# prior probability of firing for postsynaptic raster plot\n",
    "    p_A: int = .01# prior probability of firing for presynaptic raster plot\n",
    "    seed: int = 42# seed\n",
    "\n",
    "    ## figures\n",
    "    verbose: bool = False# Displays more verbose output.\n",
    "    fig_width: float = 12# width of figure\n",
    "    phi: float = 1.61803# beauty is gold\n",
    "    N_PG_show: float = 5# number of PG to show in plot_PG\n"
   ]
  },
  {
   "cell_type": "code",
   "execution_count": 10,
   "id": "b8daaf2b-0466-411b-a6ba-6b5f785d102a",
   "metadata": {},
   "outputs": [
    {
     "data": {
      "text/plain": [
       "Params(datetag='2022-11-22', N_pre=64, N_PG_time=75, N_PGs=35, E_PG=10.0, p_PG=0.001, tau_decay=0.4, tau_rise=0.05, N_time=1000, N_trials=10, p_B=0.001, p_A=0.01, seed=42, verbose=False, fig_width=12, phi=1.61803, N_PG_show=5)"
      ]
     },
     "execution_count": 10,
     "metadata": {},
     "output_type": "execute_result"
    }
   ],
   "source": [
    "opt = Params()\n",
    "opt"
   ]
  },
  {
   "cell_type": "markdown",
   "id": "9047cb89-b0b1-42ba-b4c0-d443983a52f2",
   "metadata": {
    "tags": []
   },
   "source": [
    "### generative & inference models for polychronous groups"
   ]
  },
  {
   "cell_type": "code",
   "execution_count": 11,
   "id": "1b182eaf",
   "metadata": {},
   "outputs": [
    {
     "data": {
      "text/plain": [
       "tensor([0.000, 0.229, 0.390, 0.502, 0.577, 0.626, 0.655, 0.670, 0.675, 0.673, 0.666, 0.654, 0.641, 0.625, 0.609, 0.592, 0.575, 0.557, 0.540,\n",
       "        0.523, 0.507, 0.490, 0.474, 0.459, 0.444, 0.429, 0.415, 0.401, 0.388, 0.375, 0.363, 0.351, 0.339, 0.328, 0.317, 0.307, 0.296, 0.286,\n",
       "        0.277, 0.268, 0.259, 0.250, 0.242, 0.234, 0.226, 0.219, 0.211, 0.204, 0.198, 0.191, 0.185, 0.179, 0.173, 0.167, 0.161, 0.156, 0.151,\n",
       "        0.146, 0.141, 0.136, 0.132, 0.127, 0.123, 0.119, 0.115, 0.111, 0.108, 0.104, 0.101, 0.097, 0.094, 0.091, 0.088, 0.085, 0.082])"
      ]
     },
     "execution_count": 11,
     "metadata": {},
     "output_type": "execute_result"
    }
   ],
   "source": [
    "time = torch.linspace(0, 1, opt.N_PG_time)\n",
    "temporal_mod = torch.exp(- time / opt.tau_decay)\n",
    "temporal_mod *= 1-torch.exp(- time / opt.tau_rise)\n",
    "temporal_mod"
   ]
  },
  {
   "cell_type": "code",
   "execution_count": 12,
   "id": "5a4f12c2",
   "metadata": {},
   "outputs": [
    {
     "data": {
      "text/plain": [
       "[<matplotlib.lines.Line2D at 0x12324ba30>]"
      ]
     },
     "execution_count": 12,
     "metadata": {},
     "output_type": "execute_result"
    },
    {
     "data": {
      "image/png": "[encoded data removed]",
      "text/plain": [
       "<Figure size 640x480 with 1 Axes>"
      ]
     },
     "metadata": {},
     "output_type": "display_data"
    }
   ],
   "source": [
    "plt.plot(temporal_mod)\n"
   ]
  },
  {
   "cell_type": "code",
   "execution_count": 13,
   "id": "2489ae3b",
   "metadata": {},
   "outputs": [],
   "source": [
    "PG = torch.randn(opt.N_pre, opt.N_PGs, opt.N_PG_time)"
   ]
  },
  {
   "cell_type": "code",
   "execution_count": 14,
   "id": "157ccf7c",
   "metadata": {},
   "outputs": [],
   "source": [
    "PG *= temporal_mod.unsqueeze(0).unsqueeze(0)"
   ]
  },
  {
   "cell_type": "code",
   "execution_count": 15,
   "id": "bc03ca91",
   "metadata": {},
   "outputs": [],
   "source": [
    "PG *= PG >.5"
   ]
  },
  {
   "cell_type": "code",
   "execution_count": 16,
   "id": "5a4f12c2",
   "metadata": {},
   "outputs": [
    {
     "data": {
      "text/plain": [
       "[<matplotlib.lines.Line2D at 0x123376a40>]"
      ]
     },
     "execution_count": 16,
     "metadata": {},
     "output_type": "execute_result"
    },
    {
     "data": {
      "image/png": "[encoded data removed]",
      "text/plain": [
       "<Figure size 640x480 with 1 Axes>"
      ]
     },
     "metadata": {},
     "output_type": "display_data"
    }
   ],
   "source": [
    "plt.plot(PG[0, 0, :])\n"
   ]
  },
  {
   "cell_type": "code",
   "execution_count": 17,
   "id": "b1ea7f88",
   "metadata": {},
   "outputs": [],
   "source": [
    "spike = torch.tensor([1, -.8, -.2])"
   ]
  },
  {
   "cell_type": "code",
   "execution_count": 18,
   "id": "021af804",
   "metadata": {},
   "outputs": [
    {
     "data": {
      "text/plain": [
       "tensor([[ 1.000, -0.800, -0.200],\n",
       "        [ 1.000, -0.800, -0.200],\n",
       "        [ 1.000, -0.800, -0.200],\n",
       "        [ 1.000, -0.800, -0.200],\n",
       "        [ 1.000, -0.800, -0.200],\n",
       "        [ 1.000, -0.800, -0.200],\n",
       "        [ 1.000, -0.800, -0.200],\n",
       "        [ 1.000, -0.800, -0.200],\n",
       "        [ 1.000, -0.800, -0.200],\n",
       "        [ 1.000, -0.800, -0.200]])"
      ]
     },
     "execution_count": 18,
     "metadata": {},
     "output_type": "execute_result"
    }
   ],
   "source": [
    "spike.unsqueeze(0)*torch.ones((10, 1))"
   ]
  },
  {
   "cell_type": "code",
   "execution_count": 19,
   "id": "72cfb669-0306-4ec4-b86a-05d3a642e5e7",
   "metadata": {},
   "outputs": [],
   "source": [
    "class ABCD:\n",
    "\n",
    "    def __init__(self, opt):\n",
    "        self.opt: Params = opt\n",
    "        self.d = asdict(opt)\n",
    "        self.init()\n",
    "\n",
    "    def init(self):\n",
    "        temporal_mod = torch.zeros(self.opt.N_PG_time)\n",
    "        time = torch.linspace(0, 1, self.opt.N_PG_time)\n",
    "        temporal_mod = torch.exp(- time / self.opt.tau_decay)\n",
    "        temporal_mod *= 1 - torch.exp(- time / self.opt.tau_rise)\n",
    "        # temporal_mod = temporal_mod.flip([0])\n",
    "        #self.temporal_mod = (torch.eye(self.opt.N_PGs).unsqueeze(2)) * (temporal_mod.unsqueeze(0).unsqueeze(0))\n",
    "        self.temporal_mod = torch.ones((self.opt.N_pre, self.opt.N_PGs, 1)) * (temporal_mod.unsqueeze(0).unsqueeze(0))\n",
    "        spike = torch.tensor([1, -.8, -.2])\n",
    "        self.spike = (torch.eye(self.opt.N_PGs).unsqueeze(2)) * (spike.flip([0]).unsqueeze(0).unsqueeze(0))\n",
    "\n",
    "    def set_PG(self, seed=None, seed_offset=0):\n",
    "        if seed is None: seed = self.opt.seed + seed_offset\n",
    "        torch.manual_seed(seed)\n",
    "        \n",
    "        # 1/ define PGs as matrices to be used as kernels\n",
    "        PG = self.opt.E_PG * torch.randn(self.opt.N_pre, self.opt.N_PGs, self.opt.N_PG_time)\n",
    "        #threshold = torch.abs(PG).quantile(1-self.opt.p_PG)\n",
    "\n",
    "        # 2/ zero out everything below the threshold\n",
    "        # TODO : get analytically\n",
    "        from scipy.stats import norm\n",
    "        threshold = self.opt.E_PG * norm.ppf(1-self.opt.p_PG)\n",
    "        PG *= (PG > threshold)\n",
    "\n",
    "        print(PG.shape, self.temporal_mod.shape)\n",
    "        # 3/ modulate in time\n",
    "        PG *= self.temporal_mod\n",
    "\n",
    "        # 4/ convolve with a spike shape to induce some sort of refractory period\n",
    "        PG = torch.conv1d(PG, self.spike, padding=len(self.spike)//2)\n",
    "        return PG\n",
    "\n",
    "    def get_b(self, seed=None, seed_offset=1):\n",
    "        if seed is None: seed = self.opt.seed + seed_offset\n",
    "        torch.manual_seed(seed)\n",
    "        # draw causes (PGs) as a matrix of sparse PG activations uniformly in postsynaptic space and time\n",
    "        b_proba = torch.ones(self.opt.N_trials, self.opt.N_PGs, self.opt.N_time)*self.opt.p_B\n",
    "        return torch.bernoulli(b_proba)\n",
    "\n",
    "    def plot_raster(self, raster, raster_post=None, PG=None, i_trial=0, xticks=6, yticks=16, spikelength=.9, colors=None, figsize=None, subplotpars=subplotpars, ylabel='address', linewidths=0.8):\n",
    "\n",
    "        N_neurons = raster.shape[1]\n",
    "        if colors is None: # blue if nothing assigned\n",
    "            colors = ['b'] * N_neurons\n",
    "        else: # give the colors or ...\n",
    "            if len(colors)==1: # ... paint everything the same color\n",
    "                colors = colors[0] * N_neurons\n",
    "        if figsize is None: figsize = (self.opt.fig_width, self.opt.fig_width/self.opt.phi)\n",
    "\n",
    "        fig, ax = plt.subplots(1, 1, figsize=figsize)\n",
    "        if raster_post is None:\n",
    "            for i in range(0, N_neurons):\n",
    "                ax.eventplot(np.where(raster[i_trial, i, :] == 1.)[0], \n",
    "                    colors=colors[i], lineoffsets=1.*i+spikelength/2, \n",
    "                    linelengths=spikelength, linewidths=linewidths)\n",
    "        else:\n",
    "            for i_PG in range(self.opt.N_PGs):\n",
    "                b_ = torch.zeros_like(raster_post)\n",
    "                b_[i_trial, i_PG, :] = raster_post[i_trial, i_PG, :]\n",
    "                a_ = self.draw_a(b_, PG)\n",
    "                for i in range(0, self.opt.N_pre):\n",
    "                    ax.eventplot(np.where(a_[i_trial, i, :] == 1.)[0], colors=colors[i_PG], lineoffsets=1.*i+spikelength/2, \n",
    "                    linelengths=spikelength, linewidths=linewidths)\n",
    "    \n",
    "        ax.set_ylabel(ylabel)\n",
    "        ax.set_xlabel('Time (a. u.)')\n",
    "        ax.set_xlim(0, self.opt.N_time)\n",
    "        ax.set_ylim(0, N_neurons)\n",
    "\n",
    "        # ax.yaxis.set_minor_locator(matplotlib.ticker.MultipleLocator(yticks))\n",
    "        ax.set_yticks(np.linspace(0, N_neurons, yticks, endpoint=False)+.5)\n",
    "        ax.set_yticklabels(np.linspace(1, N_neurons, yticks, endpoint=True).astype(int))\n",
    "        for side in ['top', 'right']: ax.spines[side].set_visible(False)\n",
    "        \n",
    "        ax.xaxis.set_minor_locator(matplotlib.ticker.MultipleLocator(4))\n",
    "        ax.set_xticks(np.linspace(1, self.opt.N_time, xticks, endpoint=True))\n",
    "        ax.set_xticklabels(np.linspace(1, self.opt.N_time, xticks, endpoint=True).astype(int))\n",
    "\n",
    "        ax.grid(visible=True, axis='y', linestyle='-', lw=.5)\n",
    "        ax.grid(visible=True, axis='x', which='both', linestyle='-', lw=.1)\n",
    "\n",
    "        return fig, ax\n",
    "\n",
    "    def plot_b(self, b, i_trial=0, xticks=6, yticks=16, spikelength=.9, colors=None, figsize=None, subplotpars=subplotpars):\n",
    "        fig, ax = self.plot_raster(raster=b, i_trial=i_trial, xticks=xticks, yticks=yticks, spikelength=spikelength, colors=colors, figsize=figsize, subplotpars=subplotpars, ylabel='@ PG')\n",
    "        return fig, ax\n",
    "\n",
    "    def model_a(self, b, PG):\n",
    "        # defines the probability of firing for each presynaptic address over time\n",
    "        # input b -> postsynaptic raster plot\n",
    "        #       PG -> polychronous groups spatio temporal kernels\n",
    "        #       p_A -> prior proba of firing for the presynaptic addresses\n",
    "        logit_p_A = torch.logit(torch.tensor(self.opt.p_A))\n",
    "        return torch.sigmoid(logit_p_A + torch.conv1d(b*1., PG, padding=self.opt.N_PG_time//2))\n",
    "\n",
    "    def draw_a(self, b, PG, seed=None, seed_offset=2):\n",
    "        # draws binary events from the probability of firing\n",
    "        if seed is None: seed = self.opt.seed + seed_offset\n",
    "        torch.manual_seed(seed)\n",
    "        # generate the corresponding raster plot\n",
    "        a_proba = self.model_a(b, PG)\n",
    "        return torch.bernoulli(a_proba)\n",
    "\n",
    "    def plot_a(self, a, b=None, PG=None, i_trial=0, xticks=6, yticks=16, spikelength=.9, colors=None, figsize=None, subplotpars=subplotpars):\n",
    "        fig, ax = self.plot_raster(raster=a, raster_post=b, PG=PG, i_trial=i_trial, xticks=xticks, yticks=yticks, spikelength=spikelength, colors=colors, figsize=figsize, subplotpars=subplotpars, ylabel='@ Synapse')\n",
    "        return fig, ax\n",
    "\n",
    "    def inference_with_PGs(self, a, b, PG):\n",
    "        # infer \n",
    "        b_hat = torch.conv_transpose1d(a*1., PG, padding=self.opt.N_PG_time//2)\n",
    "        # decision\n",
    "        p_B = b.sum()/(self.opt.N_trials*self.opt.N_PGs*self.opt.N_time) # ça suppose qu'on connait b.sum()...\n",
    "        b_threshold = torch.quantile(b_hat, 1-p_B)\n",
    "        b_hat_bin = (b_hat>b_threshold)\n",
    "        return b_hat, b_hat_bin\n",
    "\n",
    "    def generative_model(self, seed=None, seed_offset=3):\n",
    "        if seed is None: seed = self.opt.seed + seed_offset\n",
    "        torch.manual_seed(seed)\n",
    "        PG, b = self.set_PG(seed=seed), self.get_b(seed=seed+1)\n",
    "        a = self.draw_a(b, PG, seed=seed+2)\n",
    "        return a, b, PG\n",
    "\n",
    "    def test_model(self, PG, PG_true=None, seed=None, seed_offset=4):\n",
    "        if seed is None: seed = self.opt.seed + seed_offset\n",
    "        torch.manual_seed(seed)\n",
    "        if PG_true is None: PG_true = PG\n",
    "        # define PGs\n",
    "        # draw causes (PGs)\n",
    "        b = self.get_b(seed=seed)\n",
    "        # generate the corresponding raster plot\n",
    "        a = self.draw_a(b, PG_true, seed=seed+1)\n",
    "        # infer \n",
    "        b_hat, b_hat_bin = self.inference_with_PGs(a, b, PG)\n",
    "        return torch.mean((b_hat_bin == b)*1.), torch.mean(b_hat_bin[b==1]*1.), 1-torch.mean(b_hat_bin[b==0]*1.)\n",
    "\n",
    "    def plot_PG(self, PG, cmap='seismic', colors=None, aspect=None, figsize=None, subplotpars=subplotpars, N_PG_show=None):\n",
    "        if N_PG_show == None: N_PG_show = self.opt.N_PG_show\n",
    "        if PG.dtype == torch.bool:\n",
    "            PG_max = 1\n",
    "            PG_min = 0\n",
    "            cmap = 'binary'\n",
    "        else:\n",
    "            # PG = PG.numpy()\n",
    "            PG_max = np.abs(PG).max()#.item()\n",
    "            PG_min = -PG_max\n",
    "\n",
    "        if figsize is None:\n",
    "            figsize = (self.opt.fig_width, self.opt.fig_width/self.opt.phi)\n",
    "\n",
    "        fig, axs = plt.subplots(1, N_PG_show, figsize=figsize, subplotpars=subplotpars)\n",
    "        for i_PG in range(N_PG_show):\n",
    "            ax = axs[i_PG]\n",
    "            ax.set_axisbelow(True)\n",
    "\n",
    "            # for i in range(PG.shape[0]):\n",
    "            #     ax.scatter(y=i*np.ones((self.opt.N_PG_time,)), \n",
    "            #                x=np.arange(self.opt.N_PG_time), \n",
    "            #                s=np.abs(PG[i, i_PG, :]), c='k', #PG[i, i_PG, :], \n",
    "            #                alpha=.8, cmap=cmap)\n",
    "            # X, Y = np.meshgrid(np.arange(self.opt.N_pre), np.arange(self.opt.N_PG_time))\n",
    "            \n",
    "            ax.pcolormesh(PG[:, i_PG, :], cmap=cmap, vmin=PG_min, vmax=PG_max)\n",
    "\n",
    "            ax.set_xlim(0, PG.shape[2])\n",
    "            #ax.imshow(PG[:, i_PG, :], cmap=cmap, vmin=PG_min, vmax=PG_max, interpolation='none')\n",
    "            ax.set_xlabel('Delay')\n",
    "            ax.set_title(f'PG #{i_PG+1}', color='k' if colors is None else colors[i_PG])\n",
    "            if not aspect is None: ax.set_aspect(aspect)\n",
    "\n",
    "            ax.set_ylim(0, self.opt.N_pre)\n",
    "            ax.set_yticks(np.arange(0, self.opt.N_pre, 1)+.5)\n",
    "            if i_PG>0: \n",
    "                ax.set_yticklabels([])\n",
    "            else:\n",
    "                ax.set_yticklabels(np.arange(0, self.opt.N_pre, 1)+1)\n",
    "\n",
    "            for side in ['top', 'right']: ax.spines[side].set_visible(False)\n",
    "            ax.set_xticks([0, self.opt.N_PG_time//2, self.opt.N_PG_time-1])\n",
    "            ax.xaxis.set_minor_locator(matplotlib.ticker.AutoMinorLocator(self.opt.N_PG_time//4))\n",
    "            #ax.xaxis.set_minor_locator(AutoMinorLocator(4))\n",
    "            #ax.set_xticklabels([-(self.opt.N_PG_time//2), 0, self.opt.N_PG_time//2])\n",
    "            ax.set_xticklabels([0, (self.opt.N_PG_time//2), (self.opt.N_PG_time)])\n",
    "            # ax.grid(True, axis='y', linestyle='-', lw=1)\n",
    "            # ax.grid(True, axis='x', which='both', linestyle='-', lw=.1)\n",
    "\n",
    "        axs[0].set_ylabel('@ Synapse')\n",
    "        return fig, axs\n",
    "\n",
    "    def plot_a_histo(self, a,  xticks=1, spikelength=.9, colors=None, figsize=None, subplotpars=subplotpars):\n",
    "        fig, ax = plt.subplots(1, 1, figsize=(self.opt.fig_width, self.opt.fig_width/self.opt.phi))\n",
    "        ax.step(np.arange(self.opt.N_pre), a.numpy().mean(axis=(0, 2)), label='firing rate')\n",
    "        ax.hlines(self.opt.p_A, 0, self.opt.N_pre, linestyles='--', color='orange', label='probability of firing for each address')\n",
    "        ax.set_xlabel('address')\n",
    "        ax.set_ylim(0)\n",
    "        ax.legend()\n",
    "        return fig, ax\n",
    "\n",
    "    def plot_inference(self, b, b_hat, b_hat_bin, i_trial = 0, t_min = 100, t_max = 150, subplotpars=subplotpars):\n",
    "        fig, ax = plt.subplots(1, 3, figsize=(self.opt.fig_width, self.opt.fig_width), subplotpars=subplotpars)\n",
    "        ax[2].imshow(b_hat_bin[i_trial, :, t_min:t_max])\n",
    "        ax[0].imshow(b[i_trial, :, t_min:t_max])\n",
    "        ax[1].imshow(b_hat[i_trial, :, t_min:t_max])\n",
    "        return fig, ax\n",
    "\n",
    "    def plot_inference_histo(self, b_hat, nb_bins = 100):\n",
    "        fig, ax = plt.subplots(1, 1, figsize=(self.opt.fig_width, self.opt.fig_width/self.opt.phi))\n",
    "        ax.hist(b_hat.numpy().ravel(), bins=nb_bins)\n",
    "        ax.set_ylabel('smarts')\n",
    "        ax.set_xlabel('value of b_hat')\n",
    "        ax.set_yscale('log')\n",
    "        return fig, ax\n"
   ]
  },
  {
   "cell_type": "code",
   "execution_count": 20,
   "id": "1f0ab6b7-7f43-4c56-80e3-bf57b3805931",
   "metadata": {},
   "outputs": [],
   "source": [
    "env = ABCD(opt)"
   ]
  },
  {
   "cell_type": "code",
   "execution_count": 21,
   "id": "a607b61d-87de-426e-aa45-e4f314a28ef0",
   "metadata": {},
   "outputs": [
    {
     "data": {
      "text/plain": [
       "(Params(datetag='2022-11-22', N_pre=64, N_PG_time=75, N_PGs=35, E_PG=10.0, p_PG=0.001, tau_decay=0.4, tau_rise=0.05, N_time=1000, N_trials=10, p_B=0.001, p_A=0.01, seed=42, verbose=False, fig_width=12, phi=1.61803, N_PG_show=5),\n",
       " {'datetag': '2022-11-22',\n",
       "  'N_pre': 64,\n",
       "  'N_PG_time': 75,\n",
       "  'N_PGs': 35,\n",
       "  'E_PG': 10.0,\n",
       "  'p_PG': 0.001,\n",
       "  'tau_decay': 0.4,\n",
       "  'tau_rise': 0.05,\n",
       "  'N_time': 1000,\n",
       "  'N_trials': 10,\n",
       "  'p_B': 0.001,\n",
       "  'p_A': 0.01,\n",
       "  'seed': 42,\n",
       "  'verbose': False,\n",
       "  'fig_width': 12,\n",
       "  'phi': 1.61803,\n",
       "  'N_PG_show': 5})"
      ]
     },
     "execution_count": 21,
     "metadata": {},
     "output_type": "execute_result"
    }
   ],
   "source": [
    "env.opt, env.d"
   ]
  },
  {
   "cell_type": "markdown",
   "id": "fc7e8553-cf29-4c78-a585-8e669a65b84e",
   "metadata": {},
   "source": [
    "#### dev sandox"
   ]
  },
  {
   "cell_type": "code",
   "execution_count": 22,
   "id": "e70f21d5",
   "metadata": {},
   "outputs": [
    {
     "name": "stdout",
     "output_type": "stream",
     "text": [
      "torch.Size([64, 35, 75]) torch.Size([64, 35, 75])\n"
     ]
    }
   ],
   "source": [
    "env = ABCD(opt)\n",
    "a, b, PG = env.generative_model()"
   ]
  },
  {
   "cell_type": "code",
   "execution_count": 23,
   "id": "438b3711",
   "metadata": {},
   "outputs": [
    {
     "data": {
      "text/plain": [
       "torch.Size([64, 35, 75])"
      ]
     },
     "execution_count": 23,
     "metadata": {},
     "output_type": "execute_result"
    }
   ],
   "source": [
    "env.temporal_mod.shape"
   ]
  },
  {
   "cell_type": "code",
   "execution_count": 24,
   "id": "f65f41d0",
   "metadata": {},
   "outputs": [
    {
     "data": {
      "text/plain": [
       "torch.Size([64, 35, 107])"
      ]
     },
     "execution_count": 24,
     "metadata": {},
     "output_type": "execute_result"
    }
   ],
   "source": [
    "PG.shape"
   ]
  },
  {
   "cell_type": "code",
   "execution_count": 25,
   "id": "72d580f8",
   "metadata": {},
   "outputs": [
    {
     "data": {
      "text/plain": [
       "<matplotlib.image.AxesImage at 0x1326fa3e0>"
      ]
     },
     "execution_count": 25,
     "metadata": {},
     "output_type": "execute_result"
    },
    {
     "data": {
      "image/png": "[encoded data removed]",
      "text/plain": [
       "<Figure size 640x480 with 1 Axes>"
      ]
     },
     "metadata": {},
     "output_type": "display_data"
    }
   ],
   "source": [
    "plt.imshow(PG[0, :, :], cmap='seismic')"
   ]
  },
  {
   "cell_type": "markdown",
   "id": "c5f59873-584d-43ad-a1e5-84172faee5e5",
   "metadata": {
    "tags": []
   },
   "source": [
    "# generative model for polychronous groups"
   ]
  },
  {
   "cell_type": "code",
   "execution_count": 26,
   "id": "3466fd28-1975-45d1-ad10-7d604318bb3d",
   "metadata": {},
   "outputs": [
    {
     "name": "stdout",
     "output_type": "stream",
     "text": [
      "torch.Size([64, 35, 75]) torch.Size([64, 35, 75])\n"
     ]
    }
   ],
   "source": [
    "opt = Params()\n",
    "env = ABCD(opt)\n",
    "a, b, PG = env.generative_model()\n",
    "# env.plot_PG(PG);\n",
    "# TODO find a better rule to generate PGs"
   ]
  },
  {
   "cell_type": "markdown",
   "id": "4cb1eb03-3ee1-4599-bb89-5d769ce9d872",
   "metadata": {},
   "source": [
    "Draw one instance of single PGs:"
   ]
  },
  {
   "cell_type": "markdown",
   "id": "22abf88b-b2f9-4b16-af19-b7ca6aba7035",
   "metadata": {},
   "source": [
    "Draw the occurrences of PGs:"
   ]
  },
  {
   "cell_type": "code",
   "execution_count": 27,
   "id": "09b07bf1-68db-46e3-b3ed-bc41f2aec49f",
   "metadata": {},
   "outputs": [
    {
     "data": {
      "image/png": "[encoded data removed]",
      "text/plain": [
       "<Figure size 1200x741.643 with 1 Axes>"
      ]
     },
     "metadata": {},
     "output_type": "display_data"
    }
   ],
   "source": [
    "env.plot_b(b);"
   ]
  },
  {
   "cell_type": "markdown",
   "id": "13bed7c5-824c-44e2-ad33-1508ebda8106",
   "metadata": {},
   "source": [
    "Resulting raster plot:"
   ]
  },
  {
   "cell_type": "code",
   "execution_count": 28,
   "id": "c4b278db-9cca-4d21-8428-170e1b61daf6",
   "metadata": {},
   "outputs": [
    {
     "data": {
      "image/png": "[encoded data removed]",
      "text/plain": [
       "<Figure size 1200x741.643 with 1 Axes>"
      ]
     },
     "metadata": {},
     "output_type": "display_data"
    }
   ],
   "source": [
    "env.plot_a(a, i_trial=7);\n",
    "# TODO correct this firing rate"
   ]
  },
  {
   "cell_type": "markdown",
   "id": "23fc3f4f-9180-4c2d-ad50-da05e3b35064",
   "metadata": {},
   "source": [
    "# inference model for polychronous groups\n",
    "\n",
    "knowing the raster plot `a`, let's try to infer `b` :"
   ]
  },
  {
   "cell_type": "code",
   "execution_count": 29,
   "id": "4a58a7a8-0aa2-46c9-aa18-c843eb415d64",
   "metadata": {},
   "outputs": [
    {
     "ename": "TypeError",
     "evalue": "conv_transpose1d(): argument 'padding' must be tuple of ints, not str",
     "output_type": "error",
     "traceback": [
      "\u001b[0;31m---------------------------------------------------------------------------\u001b[0m",
      "\u001b[0;31mTypeError\u001b[0m                                 Traceback (most recent call last)",
      "Cell \u001b[0;32mIn [29], line 1\u001b[0m\n\u001b[0;32m----> 1\u001b[0m b_hat, b_hat_bin \u001b[39m=\u001b[39m env\u001b[39m.\u001b[39;49minference_with_PGs(a, b, PG)\n\u001b[1;32m      2\u001b[0m env\u001b[39m.\u001b[39mplot_inference_histo(b_hat)\n",
      "Cell \u001b[0;32mIn [19], line 118\u001b[0m, in \u001b[0;36mABCD.inference_with_PGs\u001b[0;34m(self, a, b, PG)\u001b[0m\n\u001b[1;32m    116\u001b[0m \u001b[39mdef\u001b[39;00m \u001b[39minference_with_PGs\u001b[39m(\u001b[39mself\u001b[39m, a, b, PG):\n\u001b[1;32m    117\u001b[0m     \u001b[39m# infer \u001b[39;00m\n\u001b[0;32m--> 118\u001b[0m     b_hat \u001b[39m=\u001b[39m torch\u001b[39m.\u001b[39;49mconv_transpose1d(a\u001b[39m*\u001b[39;49m\u001b[39m1.\u001b[39;49m, PG, padding\u001b[39m=\u001b[39;49m\u001b[39m'\u001b[39;49m\u001b[39msame\u001b[39;49m\u001b[39m'\u001b[39;49m)\u001b[39m#self.opt.N_PG_time//2)\u001b[39;00m\n\u001b[1;32m    119\u001b[0m     \u001b[39m# decision\u001b[39;00m\n\u001b[1;32m    120\u001b[0m     p_B \u001b[39m=\u001b[39m b\u001b[39m.\u001b[39msum()\u001b[39m/\u001b[39m(\u001b[39mself\u001b[39m\u001b[39m.\u001b[39mopt\u001b[39m.\u001b[39mN_trials\u001b[39m*\u001b[39m\u001b[39mself\u001b[39m\u001b[39m.\u001b[39mopt\u001b[39m.\u001b[39mN_PGs\u001b[39m*\u001b[39m\u001b[39mself\u001b[39m\u001b[39m.\u001b[39mopt\u001b[39m.\u001b[39mN_time) \u001b[39m# ça suppose qu'on connait b.sum()...\u001b[39;00m\n",
      "\u001b[0;31mTypeError\u001b[0m: conv_transpose1d(): argument 'padding' must be tuple of ints, not str"
     ]
    }
   ],
   "source": [
    "b_hat, b_hat_bin = env.inference_with_PGs(a, b, PG)\n",
    "env.plot_inference_histo(b_hat)"
   ]
  },
  {
   "cell_type": "code",
   "execution_count": null,
   "id": "684bb4ac-a02c-4bda-9227-7ef2796d4462",
   "metadata": {},
   "outputs": [],
   "source": [
    "env.plot_inference(b, b_hat, b_hat_bin)"
   ]
  },
  {
   "cell_type": "markdown",
   "id": "5b0f0d56-ec2e-4702-899c-9694cfed9eaa",
   "metadata": {},
   "source": [
    "## test model, learning "
   ]
  },
  {
   "cell_type": "code",
   "execution_count": null,
   "id": "5d083bed-071c-4ec5-bc52-af18108c13b2",
   "metadata": {},
   "outputs": [],
   "source": [
    "%%timeit\n",
    "accuracy, TP, TN = env.test_model(PG, PG)"
   ]
  },
  {
   "cell_type": "code",
   "execution_count": null,
   "id": "653935b2-4ad1-4a6b-8bff-d5bb0279af8a",
   "metadata": {},
   "outputs": [],
   "source": [
    "accuracy, TP, TN = env.test_model(PG, PG)\n",
    "print(f'accuracy={accuracy.item()*100:.2f}%, TP={TP.item()*100:.2f}%, TN={TN.item()*100:.2f}%')"
   ]
  },
  {
   "cell_type": "markdown",
   "id": "1176a73f-9aaf-4581-aff1-fef7d8ca5568",
   "metadata": {},
   "source": [
    "## Figure 1"
   ]
  },
  {
   "cell_type": "code",
   "execution_count": null,
   "id": "150f9909-f630-4d1e-b81a-e8df61e4fb86",
   "metadata": {},
   "outputs": [],
   "source": [
    "N_PGs = 4\n",
    "opt_fig1 = Params(  datetag = datetag + '_fig1',\n",
    "                    N_pre = 10, \n",
    "                    N_PGs = N_PGs,\n",
    "                    N_PG_time = 71,\n",
    "                    p_PG = .07,\n",
    "                    p_A = 0.0015,\n",
    "                    p_B = 0.0015,\n",
    "                    N_PG_show = N_PGs,\n",
    "                    N_trials = 1,\n",
    "                    N_time = 240,\n",
    "                    seed = 2373,\n",
    "                    fig_width = 4.5,\n",
    "                    )\n",
    "                    \n",
    "env_fig1 = ABCD(opt_fig1)\n",
    "# a, b, PG = env_fig1.generative_model()\n",
    "PG = env_fig1.set_PG(seed=opt_fig1.seed)\n",
    "b = env_fig1.get_b(seed=opt_fig1.seed+1)"
   ]
  },
  {
   "cell_type": "code",
   "execution_count": null,
   "id": "e4ebc802-70e0-4f34-9965-bd96a2ee629f",
   "metadata": {},
   "outputs": [],
   "source": [
    "opt_fig1, env_fig1.opt, env_fig1.opt.N_pre, env_fig1.opt.N_PGs\n"
   ]
  },
  {
   "cell_type": "code",
   "execution_count": null,
   "id": "fd2a317e",
   "metadata": {},
   "outputs": [],
   "source": [
    "env_fig1.opt.N_pre, env_fig1.opt.N_PGs, env_fig1.opt.N_PG_time"
   ]
  },
  {
   "cell_type": "code",
   "execution_count": null,
   "id": "d85f4976-f188-4fb5-87da-f133ee654fa3",
   "metadata": {},
   "outputs": [],
   "source": [
    "subplotpars_fig1 = matplotlib.figure.SubplotParams(left=0., right=1., bottom=0., top=1., wspace=0.05, hspace=0.05,)\n",
    "figsize = (env_fig1.opt.fig_width, env_fig1.opt.fig_width/2.5)\n",
    "colors = ['r', 'g' , 'b' , 'm']"
   ]
  },
  {
   "cell_type": "code",
   "execution_count": null,
   "id": "1d0f5ab4-ad12-4570-bc5e-b43fa9ab5950",
   "metadata": {},
   "outputs": [],
   "source": [
    "#b[0, 3, 350] = True\n",
    "#b[0, 2, 350] = True\n",
    "#b[0, 1, 150] = True\n",
    "b[0, 0, 50] = True\n",
    "b[0, 3, 180] = True\n",
    "#b[0, 3, 42] = True\n",
    "b[0, 1, 201] = True\n",
    "b[0, 1, 114] = True\n",
    "b[0, 2, 42] = True\n",
    "b[0, 2, 104] = True\n",
    "#b[0, 0, 50] = True\n",
    "b.shape"
   ]
  },
  {
   "cell_type": "code",
   "execution_count": null,
   "id": "0ab69510",
   "metadata": {},
   "outputs": [],
   "source": [
    "PG.shape"
   ]
  },
  {
   "cell_type": "code",
   "execution_count": null,
   "id": "d57b892f",
   "metadata": {},
   "outputs": [],
   "source": [
    "PG.mean(), PG.abs().max(), PG.min(), PG.max()"
   ]
  },
  {
   "cell_type": "code",
   "execution_count": null,
   "id": "27d211ce-660c-4465-9856-dfa6b856f136",
   "metadata": {},
   "outputs": [],
   "source": [
    "fig, axs = env_fig1.plot_PG(PG, colors=colors)\n",
    "fig.text(0.03, 0.95,'(b)', horizontalalignment='center', verticalalignment='center', weight='bold')\n",
    "if not figpath is  None: printfig(fig, 'figure_1b.pdf')\n",
    "plt.show()"
   ]
  },
  {
   "cell_type": "markdown",
   "id": "c45e47f9-3924-4bc5-8aca-588d4c8bbb29",
   "metadata": {},
   "source": [
    "Then from the following raster plot, each PG described if the figure above will be selective to the spatio-temporal pattern of the same color: "
   ]
  },
  {
   "cell_type": "code",
   "execution_count": null,
   "id": "b2eb570d",
   "metadata": {},
   "outputs": [],
   "source": [
    "fig, ax = env_fig1.plot_b(b, colors=colors, yticks=env_fig1.opt.N_PGs)"
   ]
  },
  {
   "cell_type": "code",
   "execution_count": null,
   "id": "6b9b9bab-3c77-4aad-9fb5-59a52b842112",
   "metadata": {},
   "outputs": [],
   "source": [
    "fig, ax = env_fig1.plot_b(b, colors=colors, figsize=figsize, subplotpars=subplotpars_fig1, yticks=env_fig1.opt.N_PGs)\n",
    "fig.text(0.03, 0.95,'(c)', horizontalalignment='center', verticalalignment='center', weight='bold')\n",
    "\n",
    "if not figpath is  None: printfig(fig, 'figure_1c')"
   ]
  },
  {
   "cell_type": "markdown",
   "id": "78122510-720c-4a35-b921-b01f75ccc465",
   "metadata": {},
   "source": [
    "It results in the following activation of the postsynaptic neurons (activation probability with a Bernoullin trial):"
   ]
  },
  {
   "cell_type": "code",
   "execution_count": null,
   "id": "20b1de1e",
   "metadata": {},
   "outputs": [],
   "source": [
    "env_fig1.opt.N_pre, a.shape, b.shape"
   ]
  },
  {
   "cell_type": "code",
   "execution_count": null,
   "id": "1beb8304",
   "metadata": {},
   "outputs": [],
   "source": [
    "a = env_fig1.draw_a(b, PG)"
   ]
  },
  {
   "cell_type": "code",
   "execution_count": null,
   "id": "76885744-43b7-4067-84cd-bbcb464d0ab7",
   "metadata": {},
   "outputs": [],
   "source": [
    "for suff in ['_k', '']:\n",
    "    fig, ax = env_fig1.plot_a(a, b, PG, colors=colors if suff=='' else ['k'], figsize=figsize, subplotpars=subplotpars_fig1, yticks=env_fig1.opt.N_pre)\n",
    "    \n",
    "    if not figpath is  None: \n",
    "        fig.text(0.05, 0.95, '(a)' if suff=='_k' else '(d)', horizontalalignment='center', verticalalignment='center', weight='bold')\n",
    "        printfig(fig, 'figure_1a' + suff)\n",
    "    else:\n",
    "        fig.text(0.05, 0.95,'(before)' if suff=='_k' else '(after)', horizontalalignment='center', verticalalignment='center', weight='bold')\n",
    "\n",
    "    plt.show()"
   ]
  },
  {
   "cell_type": "markdown",
   "id": "d2d19699-7afd-44b6-af46-d21d84712b4d",
   "metadata": {},
   "source": [
    "TODO: montrer des PGs générant des vagues, du bruit de Poisson, des one-spike per neuron, ..."
   ]
  },
  {
   "cell_type": "markdown",
   "id": "158b51df-c7c8-4981-84f9-00d742fee70b",
   "metadata": {
    "tags": []
   },
   "source": [
    "## scanning parameters"
   ]
  },
  {
   "cell_type": "code",
   "execution_count": null,
   "id": "8850581b-7e7e-4824-8470-b7b8067739cf",
   "metadata": {},
   "outputs": [],
   "source": [
    "%mkdir -p data_cache"
   ]
  },
  {
   "cell_type": "code",
   "execution_count": null,
   "id": "5b2b9e6e-b1e5-49f2-9a46-79694c7884da",
   "metadata": {},
   "outputs": [],
   "source": [
    "opt.datetag"
   ]
  },
  {
   "cell_type": "code",
   "execution_count": null,
   "id": "c9db5180-60e7-4b6f-84e3-483d09d15b52",
   "metadata": {},
   "outputs": [],
   "source": [
    "%ls data_cache/{opt.datetag}_scan_*.json"
   ]
  },
  {
   "cell_type": "code",
   "execution_count": null,
   "id": "b3882b67-a689-4e2c-ab98-7a446c5d5ccc",
   "metadata": {},
   "outputs": [],
   "source": [
    "#%rm -f data_cache/{datetag}_scan_*.json"
   ]
  },
  {
   "cell_type": "code",
   "execution_count": null,
   "id": "cd2b3902-caac-4588-bce5-d3cb31d535df",
   "metadata": {},
   "outputs": [],
   "source": [
    "new_env = ABCD(opt)"
   ]
  },
  {
   "cell_type": "code",
   "execution_count": null,
   "id": "065a2ebf-4dd6-48e0-a885-c527fe358c96",
   "metadata": {},
   "outputs": [],
   "source": [
    "scan_dicts= {'N_PGs' : [8, 13, 21, 34, 55, 89, 144, 233, 377, 610], #, 987, 1364, 2351],\n",
    "             'N_PG_time' : [1, 3, 7, 15, 31, 63, 127, 255, 511],\n",
    "             'N_pre' : [8, 13, 21, 34, 55, 89, 144, 233, 377, 610, 987, 1364, 2351],\n",
    "            }\n",
    "\n",
    "label_dicts= {'N_PGs' : 'number of PGs',\n",
    "             'N_PG_time' : 'duration of PGs',\n",
    "             'N_pre' : 'number of presynaptic inputs',\n",
    "            }\n",
    "import os\n",
    "import time\n",
    "import pandas as pd\n",
    "import numpy as np\n",
    "\n",
    "N_cv = 10\n",
    "seed = np.random.randint(1000)\n",
    "verb = False\n",
    "\n",
    "for key in scan_dicts:\n",
    "    filename = f'data_cache/{opt.datetag}_scan_{key}.json'\n",
    "    print(f'{filename=}')\n",
    "    if os.path.isfile(filename):\n",
    "        df_scan = pd.read_json(filename)\n",
    "    else:\n",
    "        measure_columns = [key, 'accuracy', 'TP', 'TN', 'time']\n",
    "        df_scan = pd.DataFrame([], columns=measure_columns)\n",
    "        i_loc = 0\n",
    "        for i_value, value in enumerate(scan_dicts[key]):\n",
    "            if verb: print('i_value', i_value + 1, ' /', len(scan_dicts[key]), end='\\t')\n",
    "\n",
    "            for i_cv in  range(N_cv):\n",
    "                # tic\n",
    "                since = time.time()\n",
    "                # make a new model\n",
    "                new_env = ABCD(opt)\n",
    "                # print(key, value)\n",
    "                new_env.d[key] = value\n",
    "                # draw a new set of PGs\n",
    "                PG = new_env.set_PG(seed=seed+i_loc)\n",
    "                # test it\n",
    "                accuracy, TP, TN = new_env.test_model(PG, PG, seed=seed+i_loc)\n",
    "                # toc\n",
    "                elapsed_time = time.time() - since\n",
    "                df_scan.loc[i_loc] = {key:value, 'accuracy':accuracy.item(), 'TP':TP.item(), 'TN':TN.item(), 'time':elapsed_time}\n",
    "                i_loc += 1\n",
    "\n",
    "                if verb: print(f\" - One pass completed in {elapsed_time // 60:.0f}m {elapsed_time % 60:.0f}s\")\n",
    "\n",
    "        df_scan.to_json(filename)\n",
    "    print(df_scan)"
   ]
  },
  {
   "cell_type": "code",
   "execution_count": null,
   "id": "0f7257b4-f640-4500-9cb5-ea68e11ad96e",
   "metadata": {},
   "outputs": [],
   "source": [
    "\n",
    "import matplotlib.pyplot as plt\n",
    "for key in scan_dicts:\n",
    "    filename = f'data_cache/{datetag}_scan_{key}.json'\n",
    "    df_scan = pd.read_json(filename)\n",
    "    print(df_scan)\n",
    "    #for acc in ['TP', 'TN']\n",
    "    #ax = df_scan.plot.scatter(x=key, y=['TP'], alpha=.1)\n",
    "    #ax = df_scan.boxplot(column=key)\n",
    "    # https://pandas.pydata.org/pandas-docs/stable/user_guide/visualization.html?highlight=errorbar#visualization-errorbars\n",
    "    gp_scan = df_scan[[key, 'TP']].groupby([key])\n",
    "    means = gp_scan.mean()\n",
    "    errors = gp_scan.std()\n",
    "    fig, ax = plt.subplots(figsize=(opt.fig_width, opt.fig_width), subplotpars=subplotpars)\n",
    "    means.plot.bar(yerr=errors, ax=ax, capsize=4, rot=-60, legend=False)\n",
    "    ax.set_ylabel('Accuracy')\n",
    "    ax.set_xlabel(label_dicts[key])\n",
    "    #ax.set_xscale('log')\n",
    "    ax.set_ylim(0, 1)\n",
    "    #fig = ax.get_figure()\n",
    "    if not figpath is  None: printfig(fig, 'figure_' + key)\n",
    "    plt.show()"
   ]
  },
  {
   "cell_type": "markdown",
   "id": "f10e7955-232f-4622-af7c-1247a356ceab",
   "metadata": {
    "tags": []
   },
   "source": [
    "# Online clustering"
   ]
  },
  {
   "cell_type": "markdown",
   "id": "5e890acb-9ea6-4867-a4fb-219e3382f85b",
   "metadata": {
    "tags": []
   },
   "source": [
    "## testing inference with wrong PGs "
   ]
  },
  {
   "cell_type": "code",
   "execution_count": null,
   "id": "e72e77f2-4bd8-494c-b142-31cdd9c630ab",
   "metadata": {},
   "outputs": [],
   "source": [
    "env = ABCD(opt)"
   ]
  },
  {
   "cell_type": "code",
   "execution_count": null,
   "id": "791747fe-e1d4-4675-be84-35278201df0f",
   "metadata": {},
   "outputs": [],
   "source": [
    "accuracy, TP, TN = env.test_model(PG=env.set_PG(seed=42), PG_true=env.set_PG(seed=42))\n",
    "print(f'accuracy={accuracy.item()*100:.2f}%, TP={TP.item()*100:.2f}%, TN={TN.item()*100:.2f}%')"
   ]
  },
  {
   "cell_type": "code",
   "execution_count": null,
   "id": "28dd1ac9-fdba-4822-a1da-002e2a094143",
   "metadata": {},
   "outputs": [],
   "source": [
    "accuracy, TP, TN = env.test_model(PG=env.set_PG(seed=51), PG_true=env.set_PG(seed=42))\n",
    "print(f'accuracy={accuracy.item()*100:.2f}%, TP={TP.item()*100:.2f}%, TN={TN.item()*100:.2f}%')"
   ]
  },
  {
   "cell_type": "markdown",
   "id": "c7695cbd-68c1-44c7-818b-04269e117d2b",
   "metadata": {
    "tags": []
   },
   "source": [
    "## learning "
   ]
  },
  {
   "cell_type": "code",
   "execution_count": null,
   "id": "769446ad-8535-41d5-9f82-f33b9a8531b9",
   "metadata": {},
   "outputs": [],
   "source": [
    "PG_true = env.set_PG(seed=42)\n",
    "import torch\n",
    "\n",
    "class Net(torch.nn.Module):\n",
    "    def __init__(self, N_pre, N_PGs, N_PG_time):\n",
    "        super(Net, self).__init__()\n",
    "        self.N_pre, self.N_PGs, self.N_PG_time = N_pre, N_PGs, N_PG_time\n",
    "        # https://pytorch.org/docs/master/generated/torch.nn.ConvTranspose1d.html#torch.nn.ConvTranspose1d\n",
    "        self.convT = torch.nn.ConvTranspose1d(self.N_pre, self.N_PGs, self.N_PG_time, padding=self.N_PG_time//2, bias=False)\n",
    "\n",
    "    def forward(self, a):\n",
    "        # N_trials, N_pre, N_time = a.shape\n",
    "        b_hat = self.convT(a*1.)\n",
    "        # N_trials, N_PGs, N_time = b_hat.shape\n",
    "        return b_hat\n",
    "\n",
    "def learn_model(env, PG, PG_true, N_trials=32, N_learnsteps=1000, N_time=1000, # N_time_blur=200, lmbda=.001, \n",
    "                lr=0.01, seed=None, seed_offset=5, do_supervised=False):\n",
    "    if seed is None: seed = opt.seed + seed_offset\n",
    "    torch.manual_seed(seed)\n",
    "    \n",
    "    N_pre, N_PGs, N_PG_time = PG.shape\n",
    "\n",
    "    criterion = torch.nn.BCEWithLogitsLoss()\n",
    "    criterion_reg = torch.nn.BCELoss()\n",
    "\n",
    "    model = Net(N_pre, N_PGs, N_PG_time)\n",
    "    model.to(device)\n",
    "\n",
    "    #optimizer = torch.optim.Adadelta(model.parameters(), lr=lr)\n",
    "    optimizer = torch.optim.Adam(model.parameters(), lr=lr)\n",
    "\n",
    "    for i_step in range(N_learnsteps):\n",
    "        # draw causes (PGs) - hidden to the observer\n",
    "        b_true = env.get_b(seed=seed+i_step)\n",
    "        # generate the corresponding raster plot = what is observed\n",
    "        a = env.draw_a(b_true, PG_true, seed=seed+i_step+1)\n",
    "        a = a.to(device)\n",
    "\n",
    "        # learn the PGs\n",
    "        optimizer.zero_grad()\n",
    "        if do_supervised: # supervised learning\n",
    "            b_hat = 1. * b_true\n",
    "        else:\n",
    "            b_hat = model(a)\n",
    "        # TODO: make a threshold per PG\n",
    "        b_threshold = torch.quantile(b_hat.ravel()[:10000000], 1-env.opt.p_B)\n",
    "        b_hat_bin = (b_hat > b_threshold) * 1.\n",
    "\n",
    "        a_hat = env.model_a(b_hat_bin, model.convT.weight)\n",
    "\n",
    "        loss = criterion(a_hat, a*1.)\n",
    "        loss.backward()\n",
    "        optimizer.step()\n",
    "\n",
    "        if i_step % 100 == 0:\n",
    "            print(f'Train Epoch [{i_step:06d}/{N_learnsteps:06d}]\\tLoss: {loss.item():.6f}\\tAccuracy: {torch.mean((b_hat_bin == b_true)*1.):.6f}\\tTP: {torch.mean(b_hat_bin[b_true==1]*1.):.6f}')\n",
    "    return model"
   ]
  },
  {
   "cell_type": "code",
   "execution_count": null,
   "id": "f7eae9ab-5dc3-4012-80c0-6b11956e3f54",
   "metadata": {},
   "outputs": [],
   "source": [
    "PG_start = env.set_PG(seed=51)\n",
    "N_pre, N_PGs, N_PG_time = PG_start.shape\n",
    "model = Net(N_pre, N_PGs, N_PG_time)"
   ]
  },
  {
   "cell_type": "code",
   "execution_count": null,
   "id": "0facdaf5-5d3f-4f4e-9948-6e4c24228d8b",
   "metadata": {},
   "outputs": [],
   "source": [
    "model = Net(N_pre, N_PGs, N_PG_time)"
   ]
  },
  {
   "cell_type": "code",
   "execution_count": null,
   "id": "e420b413-e47b-4956-9c45-58baf02db2e2",
   "metadata": {},
   "outputs": [],
   "source": [
    "model.convT.weight.shape"
   ]
  },
  {
   "cell_type": "code",
   "execution_count": null,
   "id": "32cb2463-191c-4a8b-a385-d4eeb2db3715",
   "metadata": {
    "tags": []
   },
   "outputs": [],
   "source": [
    "model = learn_model(env, PG_start, PG_true, do_supervised=True)"
   ]
  },
  {
   "cell_type": "code",
   "execution_count": null,
   "id": "2755507b",
   "metadata": {},
   "outputs": [],
   "source": [
    "subplotpars_learn = matplotlib.figure.SubplotParams(left=0.125, right=.95, bottom=0.25, top=.975, wspace=0.05, hspace=0.05,)\n",
    "fig, axs = env.plot_PG(model.convT.weight.detach().numpy(), colors=colors, N_PG_show=4, subplotpars=subplotpars_learn)\n",
    "# fig.text(0.03, 0.95,'(b)', horizontalalignment='center', verticalalignment='center', weight='bold')\n",
    "# if not figpath is  None: printfig(fig, 'figure_1b.pdf')\n",
    "plt.show()"
   ]
  },
  {
   "cell_type": "code",
   "execution_count": null,
   "id": "32cb2463-191c-4a8b-a385-d4eeb2db3715",
   "metadata": {
    "tags": []
   },
   "outputs": [],
   "source": [
    "model = learn_model(env, PG_start, PG_true, do_supervised=False)"
   ]
  },
  {
   "cell_type": "code",
   "execution_count": null,
   "id": "6d460ee3-c6e5-4520-ab79-6031655e76eb",
   "metadata": {},
   "outputs": [],
   "source": [
    "model.convT.weight"
   ]
  },
  {
   "cell_type": "code",
   "execution_count": null,
   "id": "2755507b",
   "metadata": {},
   "outputs": [],
   "source": [
    "fig, axs = env.plot_PG(model.convT.weight.detach().numpy(), colors=colors, N_PG_show=4)\n",
    "fig.text(0.03, 0.95,'(b)', horizontalalignment='center', verticalalignment='center', weight='bold')\n",
    "if not figpath is  None: printfig(fig, 'figure_1b.pdf')\n",
    "plt.show()"
   ]
  },
  {
   "cell_type": "code",
   "execution_count": null,
   "id": "bcdfa06d-2137-41cc-93fd-5839da50da26",
   "metadata": {},
   "outputs": [],
   "source": [
    "model.convT.bias"
   ]
  },
  {
   "cell_type": "markdown",
   "id": "1440eb0d-79d0-4985-871d-ebe1c032ca1b",
   "metadata": {},
   "source": [
    "# Annex"
   ]
  }
 ],
 "metadata": {
  "kernelspec": {
   "display_name": "Python 3",
   "language": "python",
   "name": "python3"
  },
  "language_info": {
   "codemirror_mode": {
    "name": "ipython",
    "version": 3
   },
   "file_extension": ".py",
   "mimetype": "text/x-python",
   "name": "python",
   "nbconvert_exporter": "python",
   "pygments_lexer": "ipython3",
   "version": "3.10.8"
  },
  "toc-autonumbering": true,
  "vscode": {
   "interpreter": {
    "hash": "949777d72b0d2535278d3dc13498b2535136f6dfe0678499012e853ee9abcab1"
   }
  }
 },
 "nbformat": 4,
 "nbformat_minor": 5
}
