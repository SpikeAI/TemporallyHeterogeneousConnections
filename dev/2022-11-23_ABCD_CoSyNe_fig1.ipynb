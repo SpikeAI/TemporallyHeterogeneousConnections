{
 "cells": [
  {
   "cell_type": "code",
   "execution_count": 44,
   "id": "cb1ab701-5294-4cd2-950b-c6005f36b94c",
   "metadata": {},
   "outputs": [
    {
     "name": "stdout",
     "output_type": "stream",
     "text": [
      "The autoreload extension is already loaded. To reload it, use:\n",
      "  %reload_ext autoreload\n"
     ]
    }
   ],
   "source": [
    "%load_ext autoreload\n",
    "%autoreload 2"
   ]
  },
  {
   "cell_type": "code",
   "execution_count": 45,
   "id": "f75d50cc-b9bd-4729-ad8c-1573df1c0546",
   "metadata": {},
   "outputs": [],
   "source": [
    "# to install all dependencies use, uncomment the following line and restart the kernel\n",
    "# %pip install -U -r requirements.txt"
   ]
  },
  {
   "cell_type": "code",
   "execution_count": 46,
   "id": "ad4f5829-d4e8-499e-b815-50eda50f01c6",
   "metadata": {},
   "outputs": [],
   "source": [
    "datetag = None"
   ]
  },
  {
   "cell_type": "code",
   "execution_count": 47,
   "id": "27340972",
   "metadata": {},
   "outputs": [
    {
     "data": {
      "text/plain": [
       "'2022-11-23'"
      ]
     },
     "execution_count": 47,
     "metadata": {},
     "output_type": "execute_result"
    }
   ],
   "source": [
    "if datetag is None:\n",
    "    from time import strftime, gmtime\n",
    "    datetag = strftime(\"%Y-%m-%d\", gmtime())\n",
    "datetag"
   ]
  },
  {
   "cell_type": "code",
   "execution_count": 48,
   "id": "f93b8b09-de07-4895-8df9-4189beba8303",
   "metadata": {},
   "outputs": [],
   "source": [
    "datetag = '2022-11-23'"
   ]
  },
  {
   "cell_type": "markdown",
   "id": "b959c09c-3907-46cd-8c06-303c59af8597",
   "metadata": {
    "tags": []
   },
   "source": [
    "# Un/Supervised learning of Temporally Heterogeneous Connections in spiking neurons"
   ]
  },
  {
   "cell_type": "markdown",
   "id": "bf094a22",
   "metadata": {},
   "source": [
    "\n",
    "We design a model based on heterosynaptic delays. We will define in the assembly of neurons where each synapse\n",
    "is defined by a weight *ws* at different delays *τs*. See the following figure: "
   ]
  },
  {
   "cell_type": "markdown",
   "id": "14943a62-688b-4d5b-81b8-d7db324cec7c",
   "metadata": {},
   "source": [
    "**Abstract:** The response of a biological neuron depends on the precise timing of afferent spikes. This temporal aspect of the neuronal code is essential in understanding information processing in neurobiology and applies particularly well to the output of neuromorphic hardware such as event-based cameras. Though, most artificial neuronal models do not take advantage of this minute temporal dimension and here, we develop a model for the efficient detection of temporal spiking motifs based on a layer of neurons with heterogeneous delays. Indeed, the variety of synaptic delays on the dendritic tree allows to synchronize synaptic inputs as they reach the basal dendritic tree. We show this can be formalized as time-invariant logistic regression which can trained using labelled data. We apply this model for solving the specific problem of detecting motion and demonstrate its use by applying it on synthetic naturalistic videos transformed to event-based streams similar to the output of a silicon retina. In particular, we show how its accuracy may evolve as a function of the total computational load. This end-to-end event-based computational brick could help improve the performance of future Spiking Neural Network solutions currently used in neuromorphic chips."
   ]
  },
  {
   "cell_type": "code",
   "execution_count": 49,
   "id": "6486aa33",
   "metadata": {},
   "outputs": [
    {
     "data": {
      "text/plain": [
       "device(type='cpu')"
      ]
     },
     "execution_count": 49,
     "metadata": {},
     "output_type": "execute_result"
    }
   ],
   "source": [
    "import torch\n",
    "torch.set_printoptions(precision=3, linewidth=140, sci_mode=False)\n",
    "\n",
    "if torch.backends.mps.is_available():\n",
    "    device = torch.device('mps')\n",
    "elif torch.cuda.is_available():\n",
    "    device = torch.device('cuda')\n",
    "else:\n",
    "    device = torch.device('cpu')\n",
    "device = torch.device('cpu')\n",
    "device"
   ]
  },
  {
   "cell_type": "code",
   "execution_count": 50,
   "id": "c940312f",
   "metadata": {},
   "outputs": [],
   "source": [
    "import numpy as np\n",
    "phi = np.sqrt(5)/2 + 1/2\n",
    "import matplotlib\n",
    "import matplotlib.pyplot as plt\n",
    "\n",
    "import matplotlib\n",
    "subplotpars = matplotlib.figure.SubplotParams(left=0.125, right=.95, bottom=0.25, top=.975, wspace=0.05, hspace=0.05,)\n",
    "\n",
    "figpath = None\n",
    "figpath = '../../2022-11-23_THC-CoSyNe_637e00e2c76207e2838c427d'\n",
    "\n",
    "def printfig(fig, name, ext='pdf', figpath=figpath, dpi_exp=None, bbox='tight'):\n",
    "    fig.savefig(os.path.join(figpath, name + '.' + ext), dpi = dpi_exp, bbox_inches=bbox, transparent=True)"
   ]
  },
  {
   "cell_type": "code",
   "execution_count": 51,
   "id": "872b6402",
   "metadata": {},
   "outputs": [],
   "source": [
    "if not(figpath is None):\n",
    "    %mkdir -p {figpath}"
   ]
  },
  {
   "cell_type": "code",
   "execution_count": 52,
   "id": "d4147459-e8c8-40b8-a44b-862186f0533d",
   "metadata": {},
   "outputs": [],
   "source": [
    "# https://docs.python.org/3/library/dataclasses.html?highlight=dataclass#module-dataclasses\n",
    "from dataclasses import dataclass, asdict, field\n",
    "\n",
    "@dataclass\n",
    "class Params:\n",
    "    datetag: str = datetag\n",
    "    N_pre: int = 144 # number of presynaptic inputs\n",
    "    N_PG_time: int = 71 # number of timesteps in PG, must be a odd number for convolutions\n",
    "    N_PGs: int = 35 # number of polychronous groups\n",
    "    E_PG: float = 4. # excitability range of PGs\n",
    "    p_PG: float = .005 # ratio of non-zero coefficients in PGs\n",
    "    tau_decay: float = .4 # time constant for the decay of the PG enveloppe\n",
    "    tau_rise: float = .05 # time constant for the rise of the PG enveloppe\n",
    "\n",
    "    ## Raster plots\n",
    "    N_time: int = 2**10 # number of timesteps for the raster plot\n",
    "    N_trials: int = 10 # number of trials\n",
    "    p_B: float = .001 # prior probability of firing for postsynaptic raster plot\n",
    "    p_A: float = .001 # prior probability of firing for presynaptic raster plot\n",
    "    seed: int = 42 # seed\n",
    "\n",
    "    ## figures\n",
    "    verbose: bool = False # Displays more verbose output.\n",
    "    fig_width: float = 12 # width of figure\n",
    "    phi: float = 1.61803 # beauty is gold\n",
    "    N_PG_show: float = 5 # number of PG to show in plot_PG\n"
   ]
  },
  {
   "cell_type": "code",
   "execution_count": 53,
   "id": "b8daaf2b-0466-411b-a6ba-6b5f785d102a",
   "metadata": {},
   "outputs": [
    {
     "data": {
      "text/plain": [
       "Params(datetag='2022-11-23', N_pre=144, N_PG_time=71, N_PGs=35, E_PG=4.0, p_PG=0.005, tau_decay=0.4, tau_rise=0.05, N_time=1024, N_trials=10, p_B=0.001, p_A=0.001, seed=42, verbose=False, fig_width=12, phi=1.61803, N_PG_show=5)"
      ]
     },
     "execution_count": 53,
     "metadata": {},
     "output_type": "execute_result"
    }
   ],
   "source": [
    "opt = Params()\n",
    "opt"
   ]
  },
  {
   "cell_type": "markdown",
   "id": "9047cb89-b0b1-42ba-b4c0-d443983a52f2",
   "metadata": {
    "tags": []
   },
   "source": [
    "### generative & inference models for polychronous groups"
   ]
  },
  {
   "cell_type": "code",
   "execution_count": 54,
   "id": "72cfb669-0306-4ec4-b86a-05d3a642e5e7",
   "metadata": {},
   "outputs": [],
   "source": [
    "class ABCD:\n",
    "\n",
    "    def __init__(self, opt):\n",
    "        self.opt: Params = opt\n",
    "        self.init()\n",
    "\n",
    "    def init(self):\n",
    "        self.logit_p_A = torch.logit(torch.tensor(self.opt.p_A))\n",
    "\n",
    "        temporal_mod = torch.zeros(self.opt.N_PG_time)\n",
    "        time = torch.linspace(0, 1, self.opt.N_PG_time)\n",
    "        temporal_mod = torch.exp(- time / self.opt.tau_decay)\n",
    "        temporal_mod *= 1 - torch.exp(- time / self.opt.tau_rise)\n",
    "        # temporal_mod = temporal_mod.flip([0])\n",
    "        #self.temporal_mod = (torch.eye(self.opt.N_PGs).unsqueeze(2)) * (temporal_mod.unsqueeze(0).unsqueeze(0))\n",
    "        self.temporal_mod = torch.ones((self.opt.N_pre, self.opt.N_PGs, 1)) * (temporal_mod.unsqueeze(0).unsqueeze(0))\n",
    "\n",
    "        spike = torch.tensor([1, -.8, -.2])\n",
    "        self.spike = (torch.eye(self.opt.N_PGs).unsqueeze(2)) * (spike.flip([0]).unsqueeze(0).unsqueeze(0))\n",
    "\n",
    "\n",
    "    def set_PG(self, seed=None, seed_offset=0):\n",
    "        if seed is None: seed = self.opt.seed + seed_offset\n",
    "        torch.manual_seed(seed)\n",
    "        \n",
    "        # 1/ define PGs as matrices to be used as kernels\n",
    "        PG = self.opt.E_PG * torch.randn(self.opt.N_pre, self.opt.N_PGs, self.opt.N_PG_time)\n",
    "        #threshold = torch.abs(PG).quantile(1-self.opt.p_PG)\n",
    "\n",
    "        # 2/ zero out everything below the threshold\n",
    "        # TODO : get analytically\n",
    "        from scipy.stats import norm\n",
    "        threshold = self.opt.E_PG * norm.ppf(1-self.opt.p_PG)\n",
    "        PG *= (PG > threshold)\n",
    "\n",
    "        # 3/ modulate in time\n",
    "        PG *= self.temporal_mod\n",
    "\n",
    "        # 4/ convolve with a spike shape to induce some sort of refractory period\n",
    "        PG = torch.conv1d(PG, self.spike, padding=self.spike.shape[-1]//2)\n",
    "        return PG\n",
    "\n",
    "    def get_b(self, seed=None, seed_offset=1):\n",
    "        if seed is None: seed = self.opt.seed + seed_offset\n",
    "        torch.manual_seed(seed)\n",
    "        # draw causes (PGs) as a matrix of sparse PG activations uniformly in postsynaptic space and time\n",
    "        # to avoid border effects with the temporal convolution,\n",
    "        # we set it to zero everywhere\n",
    "        b_proba = torch.zeros(self.opt.N_trials, self.opt.N_PGs, self.opt.N_time)\n",
    "        # except outside the borders\n",
    "        b_proba[:, :, (self.opt.N_PG_time//2):-(self.opt.N_PG_time//2)] = self.opt.p_B\n",
    "        # b_proba = torch.zeros(self.opt.N_trials, self.opt.N_PGs, self.opt.N_time) * self.opt.p_B\n",
    "        \n",
    "        \n",
    "        return torch.bernoulli(b_proba)\n",
    "\n",
    "    def plot_raster(self, raster, raster_post=None, PG=None, \n",
    "                    i_trial=0, xticks=6, yticks=16, spikelength=.9, \n",
    "                    colors=None, figsize=None, subplotpars=subplotpars, \n",
    "                    ylabel='address', linewidths=1.0):\n",
    "\n",
    "        N_neurons = raster.shape[1]\n",
    "        if colors is None: # blue if nothing assigned\n",
    "            colors = ['b'] * N_neurons\n",
    "        else: # give the colors or ...\n",
    "            if len(colors)==1: # ... paint everything the same color\n",
    "                colors = colors[0] * N_neurons\n",
    "\n",
    "        if figsize is None: figsize = (self.opt.fig_width, self.opt.fig_width/self.opt.phi)\n",
    "\n",
    "        fig, ax = plt.subplots(1, 1, figsize=figsize, subplotpars=subplotpars)\n",
    "        if raster_post is None:\n",
    "            for i in range(0, N_neurons):\n",
    "                ax.eventplot(np.where(raster[i_trial, i, :] == 1.)[0], \n",
    "                    colors=colors[i], lineoffsets=1.*i+spikelength/2, \n",
    "                    linelengths=spikelength, linewidths=linewidths)\n",
    "        else:\n",
    "            for i_PG in range(self.opt.N_PGs):\n",
    "                b_ = torch.zeros_like(raster_post)\n",
    "                b_[i_trial, i_PG, :] = raster_post[i_trial, i_PG, :]\n",
    "                a_ = self.draw_a(b_, PG)\n",
    "                for i in range(0, self.opt.N_pre):\n",
    "                    ax.eventplot(np.where(a_[i_trial, i, :] == 1.)[0], colors=colors[i_PG], lineoffsets=1.*i+spikelength/2, \n",
    "                    linelengths=spikelength, linewidths=linewidths)\n",
    "    \n",
    "        ax.set_ylabel(ylabel)\n",
    "        ax.set_xlabel('Time (a. u.)')\n",
    "        ax.set_xlim(0, self.opt.N_time)\n",
    "        ax.set_ylim(0, N_neurons)\n",
    "\n",
    "        # ax.yaxis.set_minor_locator(matplotlib.ticker.MultipleLocator(yticks))\n",
    "        ax.set_yticks(np.linspace(0, N_neurons, yticks, endpoint=False)+.5)\n",
    "        ax.set_yticklabels(np.linspace(1, N_neurons, yticks, endpoint=True).astype(int))\n",
    "        for side in ['top', 'right']: ax.spines[side].set_visible(False)\n",
    "        \n",
    "        ax.xaxis.set_minor_locator(matplotlib.ticker.MultipleLocator(4))\n",
    "        ax.set_xticks(np.linspace(1, self.opt.N_time, xticks, endpoint=True))\n",
    "        ax.set_xticklabels(np.linspace(1, self.opt.N_time, xticks, endpoint=True).astype(int))\n",
    "\n",
    "        ax.grid(visible=True, axis='y', linestyle='-', lw=.5)\n",
    "        ax.grid(visible=True, axis='x', which='both', linestyle='-', lw=.1)\n",
    "\n",
    "        return fig, ax\n",
    "\n",
    "\n",
    "    def plot_b(self, b, i_trial=0, xticks=6, yticks=16, spikelength=.9, colors=None, figsize=None, subplotpars=subplotpars):\n",
    "        b_shifted = torch.roll(b, self.opt.N_PG_time//2, dims=-1)\n",
    "\n",
    "        fig, ax = self.plot_raster(raster=b_shifted, i_trial=i_trial, xticks=xticks, yticks=yticks, spikelength=spikelength, colors=colors, figsize=figsize, subplotpars=subplotpars, ylabel='@ Motif')\n",
    "        return fig, ax\n",
    "\n",
    "    def model_a_logit(self, b, PG):\n",
    "        \"\"\"\n",
    "        defines the evidence of firing for each presynaptic address over time\n",
    "        input b -> postsynaptic raster plot\n",
    "            PG -> polychronous groups as spatio temporal kernels\n",
    "            p_A -> prior proba of firing for the presynaptic addresses\n",
    "        \n",
    "        \"\"\"\n",
    "        logit_B = torch.conv1d(b*1., PG, padding=self.opt.N_PG_time//2)\n",
    "        return self.logit_p_A + logit_B\n",
    "\n",
    "    def model_a(self, b, PG):\n",
    "        \"\"\"\n",
    "        defines the probability of firing for each presynaptic address over time from its evidence\n",
    "        \n",
    "        \"\"\"\n",
    "        logit_A = self.model_a_logit(b, PG)\n",
    "        return torch.sigmoid(logit_A)\n",
    "\n",
    "    def draw_a(self, b, PG, seed=None, seed_offset=2):\n",
    "        # draws binary events from the probability of firing\n",
    "        if seed is None: seed = self.opt.seed + seed_offset\n",
    "        torch.manual_seed(seed)\n",
    "        # generate the corresponding raster plot\n",
    "        A_proba = self.model_a(b, PG)\n",
    "        return torch.bernoulli(A_proba)\n",
    "\n",
    "    def plot_a(self, a, b=None, PG=None, i_trial=0, xticks=6, yticks=16, spikelength=.9, colors=None, figsize=None, subplotpars=subplotpars):\n",
    "        fig, ax = self.plot_raster(raster=a, raster_post=b, PG=PG, i_trial=i_trial, xticks=xticks, yticks=yticks, spikelength=spikelength, colors=colors, figsize=figsize, subplotpars=subplotpars, ylabel='@ Neuron')\n",
    "        return fig, ax\n",
    "\n",
    "    def inference_with_PGs(self, a, b, PG, max_quant=10000000):\n",
    "        # infer \n",
    "        b_hat = torch.conv_transpose1d(a*1., PG, padding=self.opt.N_PG_time//2)\n",
    "        # decision\n",
    "        p_B = b.sum()/(self.opt.N_trials*self.opt.N_PGs*self.opt.N_time) # ça suppose qu'on connait b.sum()...\n",
    "        if len(b_hat.ravel()) > max_quant:\n",
    "            ind_quant = torch.randperm(len(b_hat.ravel()))[:max_quant]\n",
    "            b_threshold = torch.quantile(b_hat.ravel()[ind_quant], 1-env.opt.p_B)\n",
    "        else:\n",
    "            b_threshold = torch.quantile(b_hat, 1-p_B)\n",
    "        b_hat_bin = (b_hat > b_threshold) * 1.\n",
    "        # b_hat_bin = torch.bernoulli(b_hat)\n",
    "        return b_hat, b_hat_bin\n",
    "\n",
    "    def generative_model(self, seed=None, seed_offset=3):\n",
    "        if seed is None: seed = self.opt.seed + seed_offset\n",
    "        torch.manual_seed(seed)\n",
    "        PG, b = self.set_PG(seed=seed), self.get_b(seed=seed+1)\n",
    "        a = self.draw_a(b, PG, seed=seed+2)\n",
    "        return a, b, PG\n",
    "\n",
    "    def test_model(self, PG, PG_true=None, seed=None, seed_offset=4):\n",
    "        if seed is None: seed = self.opt.seed + seed_offset\n",
    "        torch.manual_seed(seed)\n",
    "        if PG_true is None: PG_true = PG\n",
    "        # define PGs\n",
    "        # draw causes (PGs)\n",
    "        b = self.get_b(seed=seed)\n",
    "        # generate the corresponding raster plot\n",
    "        a = self.draw_a(b, PG_true, seed=seed+1)\n",
    "        # infer \n",
    "        b_hat, b_hat_bin = self.inference_with_PGs(a, b, PG)\n",
    "        # count\n",
    "        accuracy = torch.mean((b_hat_bin == b)*1.)\n",
    "        TP = torch.mean(b_hat_bin[b==1]*1.)\n",
    "        TN = 1-torch.mean(b_hat_bin[b==0]*1.)\n",
    "        return accuracy, TP, TN\n",
    "        \n",
    "    def plot_PG(self, PG, cmap='seismic', colors=None, aspect=None, figsize=None, subplotpars=subplotpars, N_PG_show=None):\n",
    "        if N_PG_show == None: N_PG_show = self.opt.N_PG_show\n",
    "        if PG.dtype == torch.bool:\n",
    "            PG_max = 1\n",
    "            PG_min = 0\n",
    "            cmap = 'binary'\n",
    "        else:\n",
    "            # PG = PG.numpy()\n",
    "            PG_max = np.abs(PG).max()#.item()\n",
    "            PG_min = -PG_max\n",
    "\n",
    "        if figsize is None: figsize = (self.opt.fig_width, self.opt.fig_width/self.opt.phi)\n",
    "\n",
    "        fig, axs = plt.subplots(1, N_PG_show, figsize=figsize, subplotpars=subplotpars)\n",
    "        for i_PG in range(N_PG_show):\n",
    "            ax = axs[i_PG]\n",
    "            ax.set_axisbelow(True)\n",
    "\n",
    "            ax.pcolormesh(PG[:, i_PG, :], cmap=cmap, vmin=PG_min, vmax=PG_max)\n",
    "            #ax.imshow(PG[:, i_PG, :], cmap=cmap, vmin=PG_min, vmax=PG_max, interpolation='none')\n",
    "            \n",
    "            ax.set_xlim(0, PG.shape[2])\n",
    "\n",
    "            ax.set_xlabel('Delay')\n",
    "            ax.set_title(f'motif #{i_PG+1}', color='k' if colors is None else colors[i_PG])\n",
    "            if not aspect is None: ax.set_aspect(aspect)\n",
    "\n",
    "            ax.set_ylim(0, self.opt.N_pre)\n",
    "            ax.set_yticks(np.arange(0, self.opt.N_pre, 1)+.5)\n",
    "            if i_PG>0: \n",
    "                ax.set_yticklabels([])\n",
    "            else:\n",
    "                ax.set_yticklabels(np.arange(0, self.opt.N_pre, 1)+1)\n",
    "\n",
    "            for side in ['top', 'right']: ax.spines[side].set_visible(False)\n",
    "            ax.set_xticks([0, self.opt.N_PG_time//2, self.opt.N_PG_time-1])\n",
    "            ax.xaxis.set_minor_locator(matplotlib.ticker.AutoMinorLocator(self.opt.N_PG_time//4))\n",
    "            #ax.xaxis.set_minor_locator(AutoMinorLocator(4))\n",
    "            #ax.set_xticklabels([-(self.opt.N_PG_time//2), 0, self.opt.N_PG_time//2])\n",
    "            ax.set_xticklabels([0, (self.opt.N_PG_time//2), (self.opt.N_PG_time)])\n",
    "            # ax.grid(True, axis='y', linestyle='-', lw=1)\n",
    "            # ax.grid(True, axis='x', which='both', linestyle='-', lw=.1)\n",
    "\n",
    "        axs[0].set_ylabel('@ Neuron')\n",
    "        return fig, axs\n",
    "\n",
    "    def plot_a_histo(self, a,  xticks=1, spikelength=.9, colors=None, figsize=None, subplotpars=subplotpars):\n",
    "        if figsize is None: figsize = (self.opt.fig_width, self.opt.fig_width/self.opt.phi)\n",
    "\n",
    "        fig, ax = plt.subplots(1, 1, figsize=figsize, subplotpars=subplotpars)\n",
    "        ax.step(np.arange(self.opt.N_pre), a.numpy().mean(axis=(0, 2)), label='firing rate')\n",
    "        ax.hlines(self.opt.p_A, 0, self.opt.N_pre, linestyles='--', color='orange', label='probability of firing for each address')\n",
    "        ax.set_xlabel('address')\n",
    "        ax.set_ylim(0)\n",
    "        ax.legend()\n",
    "        return fig, ax\n",
    "\n",
    "    def plot_inference(self, b, b_hat, b_hat_bin, i_trial = 0, t_min = 100, t_max = 150, figsize=None, subplotpars=subplotpars):\n",
    "        if figsize is None: figsize = (self.opt.fig_width, self.opt.fig_width/self.opt.phi)\n",
    "        fig, ax = plt.subplots(1, 3, figsize=figsize, subplotpars=subplotpars)\n",
    "        ax[2].imshow(b_hat_bin[i_trial, :, t_min:t_max])\n",
    "        ax[0].imshow(b[i_trial, :, t_min:t_max])\n",
    "        ax[1].imshow(b_hat[i_trial, :, t_min:t_max])\n",
    "        return fig, ax\n",
    "\n",
    "    def plot_inference_histo(self, b_hat, nb_bins = 100, figsize=None, subplotpars=subplotpars):\n",
    "        if figsize is None: figsize = (self.opt.fig_width, self.opt.fig_width/self.opt.phi)\n",
    "\n",
    "        fig, ax = plt.subplots(1, 1, figsize=figsize, subplotpars=subplotpars)\n",
    "        ax.hist(b_hat.numpy().ravel(), bins=nb_bins)\n",
    "        ax.set_ylabel('smarts')\n",
    "        ax.set_xlabel('value of b_hat')\n",
    "        ax.set_yscale('log')\n",
    "        return fig, ax\n"
   ]
  },
  {
   "cell_type": "code",
   "execution_count": 55,
   "id": "1f0ab6b7-7f43-4c56-80e3-bf57b3805931",
   "metadata": {},
   "outputs": [],
   "source": [
    "env = ABCD(opt)"
   ]
  },
  {
   "cell_type": "code",
   "execution_count": 56,
   "id": "a607b61d-87de-426e-aa45-e4f314a28ef0",
   "metadata": {},
   "outputs": [
    {
     "data": {
      "text/plain": [
       "Params(datetag='2022-11-23', N_pre=144, N_PG_time=71, N_PGs=35, E_PG=4.0, p_PG=0.005, tau_decay=0.4, tau_rise=0.05, N_time=1024, N_trials=10, p_B=0.001, p_A=0.001, seed=42, verbose=False, fig_width=12, phi=1.61803, N_PG_show=5)"
      ]
     },
     "execution_count": 56,
     "metadata": {},
     "output_type": "execute_result"
    }
   ],
   "source": [
    "env.opt"
   ]
  },
  {
   "cell_type": "markdown",
   "id": "fc7e8553-cf29-4c78-a585-8e669a65b84e",
   "metadata": {},
   "source": [
    "#### dev sandox"
   ]
  },
  {
   "cell_type": "code",
   "execution_count": 57,
   "id": "45cf7c59",
   "metadata": {},
   "outputs": [
    {
     "data": {
      "text/plain": [
       "(17, torch.Size([35, 35, 3]))"
      ]
     },
     "execution_count": 57,
     "metadata": {},
     "output_type": "execute_result"
    }
   ],
   "source": [
    "len(env.spike)//2, env.spike.shape"
   ]
  },
  {
   "cell_type": "code",
   "execution_count": 58,
   "id": "e70f21d5",
   "metadata": {},
   "outputs": [],
   "source": [
    "env = ABCD(opt)\n",
    "a, b, PG = env.generative_model()"
   ]
  },
  {
   "cell_type": "code",
   "execution_count": 59,
   "id": "54160c9c",
   "metadata": {},
   "outputs": [
    {
     "data": {
      "text/plain": [
       "(tensor(0.), tensor(1.))"
      ]
     },
     "execution_count": 59,
     "metadata": {},
     "output_type": "execute_result"
    }
   ],
   "source": [
    "a.min(), a.max()"
   ]
  },
  {
   "cell_type": "code",
   "execution_count": 60,
   "id": "438b3711",
   "metadata": {},
   "outputs": [
    {
     "data": {
      "text/plain": [
       "torch.Size([144, 35, 71])"
      ]
     },
     "execution_count": 60,
     "metadata": {},
     "output_type": "execute_result"
    }
   ],
   "source": [
    "env.temporal_mod.shape"
   ]
  },
  {
   "cell_type": "code",
   "execution_count": 61,
   "id": "f65f41d0",
   "metadata": {},
   "outputs": [
    {
     "data": {
      "text/plain": [
       "torch.Size([144, 35, 71])"
      ]
     },
     "execution_count": 61,
     "metadata": {},
     "output_type": "execute_result"
    }
   ],
   "source": [
    "PG.shape"
   ]
  },
  {
   "cell_type": "code",
   "execution_count": 62,
   "id": "72d580f8",
   "metadata": {},
   "outputs": [
    {
     "data": {
      "text/plain": [
       "<matplotlib.image.AxesImage at 0x2b229b700>"
      ]
     },
     "execution_count": 62,
     "metadata": {},
     "output_type": "execute_result"
    },
    {
     "data": {
      "image/png": "[encoded data removed]",
      "text/plain": [
       "<Figure size 640x480 with 1 Axes>"
      ]
     },
     "metadata": {},
     "output_type": "display_data"
    }
   ],
   "source": [
    "vmax = PG[0, :, :].abs().max()\n",
    "plt.imshow(PG[0, :, :], cmap='seismic', vmin=-vmax, vmax=vmax)"
   ]
  },
  {
   "cell_type": "markdown",
   "id": "c5f59873-584d-43ad-a1e5-84172faee5e5",
   "metadata": {
    "tags": []
   },
   "source": [
    "# generative model for polychronous groups"
   ]
  },
  {
   "cell_type": "code",
   "execution_count": 63,
   "id": "3466fd28-1975-45d1-ad10-7d604318bb3d",
   "metadata": {},
   "outputs": [],
   "source": [
    "opt = Params()\n",
    "env = ABCD(opt)\n",
    "a, b, PG = env.generative_model()\n",
    "# env.plot_PG(PG);\n",
    "# TODO find a better rule to generate PGs"
   ]
  },
  {
   "cell_type": "markdown",
   "id": "4cb1eb03-3ee1-4599-bb89-5d769ce9d872",
   "metadata": {},
   "source": [
    "Draw one instance of single PGs:"
   ]
  },
  {
   "cell_type": "markdown",
   "id": "22abf88b-b2f9-4b16-af19-b7ca6aba7035",
   "metadata": {},
   "source": [
    "Draw the occurrences of PGs:"
   ]
  },
  {
   "cell_type": "code",
   "execution_count": 64,
   "id": "09b07bf1-68db-46e3-b3ed-bc41f2aec49f",
   "metadata": {},
   "outputs": [
    {
     "data": {
      "image/png": "[encoded data removed]",
      "text/plain": [
       "<Figure size 1200x741.643 with 1 Axes>"
      ]
     },
     "metadata": {},
     "output_type": "display_data"
    }
   ],
   "source": [
    "env.plot_b(b);"
   ]
  },
  {
   "cell_type": "markdown",
   "id": "13bed7c5-824c-44e2-ad33-1508ebda8106",
   "metadata": {},
   "source": [
    "Resulting raster plot:"
   ]
  },
  {
   "cell_type": "code",
   "execution_count": 65,
   "id": "c4b278db-9cca-4d21-8428-170e1b61daf6",
   "metadata": {},
   "outputs": [
    {
     "data": {
      "image/png": "[encoded data removed]",
      "text/plain": [
       "<Figure size 1200x741.643 with 1 Axes>"
      ]
     },
     "metadata": {},
     "output_type": "display_data"
    }
   ],
   "source": [
    "env.plot_a(a, i_trial=7);\n",
    "# TODO correct this firing rate"
   ]
  },
  {
   "cell_type": "code",
   "execution_count": 66,
   "id": "9c31bb02",
   "metadata": {},
   "outputs": [
    {
     "data": {
      "text/plain": [
       "(tensor(0.003),\n",
       " tensor(0.001),\n",
       " tensor([0.001, 0.001, 0.001, 0.001, 0.001, 0.001, 0.001, 0.001, 0.001, 0.000, 0.001, 0.000, 0.001, 0.001, 0.000, 0.001, 0.001, 0.001, 0.001,\n",
       "         0.001, 0.000, 0.001, 0.001, 0.001, 0.001, 0.001, 0.001, 0.001, 0.000, 0.001, 0.001, 0.001, 0.001, 0.001, 0.001]))"
      ]
     },
     "execution_count": 66,
     "metadata": {},
     "output_type": "execute_result"
    }
   ],
   "source": [
    "a.mean(), b.mean(), b.mean(axis=(0, -1))"
   ]
  },
  {
   "cell_type": "markdown",
   "id": "23fc3f4f-9180-4c2d-ad50-da05e3b35064",
   "metadata": {},
   "source": [
    "# inference model for polychronous groups\n",
    "\n",
    "knowing the raster plot `a`, let's try to infer `b` :"
   ]
  },
  {
   "cell_type": "code",
   "execution_count": 67,
   "id": "4a58a7a8-0aa2-46c9-aa18-c843eb415d64",
   "metadata": {},
   "outputs": [
    {
     "data": {
      "text/plain": [
       "(<Figure size 1200x741.643 with 1 Axes>,\n",
       " <AxesSubplot: xlabel='value of b_hat', ylabel='smarts'>)"
      ]
     },
     "execution_count": 67,
     "metadata": {},
     "output_type": "execute_result"
    },
    {
     "data": {
      "image/png": "[encoded data removed]",
      "text/plain": [
       "<Figure size 1200x741.643 with 1 Axes>"
      ]
     },
     "metadata": {},
     "output_type": "display_data"
    }
   ],
   "source": [
    "b_hat, b_hat_bin = env.inference_with_PGs(a, b, PG)\n",
    "env.plot_inference_histo(b_hat)"
   ]
  },
  {
   "cell_type": "code",
   "execution_count": 68,
   "id": "f3c15e09",
   "metadata": {},
   "outputs": [
    {
     "data": {
      "text/plain": [
       "torch.Size([10, 35, 1024])"
      ]
     },
     "execution_count": 68,
     "metadata": {},
     "output_type": "execute_result"
    }
   ],
   "source": [
    "b.shape"
   ]
  },
  {
   "cell_type": "code",
   "execution_count": 69,
   "id": "8d5f1327",
   "metadata": {},
   "outputs": [
    {
     "data": {
      "text/plain": [
       "torch.Size([10, 35, 1024])"
      ]
     },
     "execution_count": 69,
     "metadata": {},
     "output_type": "execute_result"
    }
   ],
   "source": [
    "b = torch.roll(b, opt.N_PG_time//2, dims=-1)\n",
    "b.shape"
   ]
  },
  {
   "cell_type": "code",
   "execution_count": 70,
   "id": "684bb4ac-a02c-4bda-9227-7ef2796d4462",
   "metadata": {},
   "outputs": [
    {
     "data": {
      "text/plain": [
       "(<Figure size 1200x741.643 with 3 Axes>,\n",
       " array([<AxesSubplot: >, <AxesSubplot: >, <AxesSubplot: >], dtype=object))"
      ]
     },
     "execution_count": 70,
     "metadata": {},
     "output_type": "execute_result"
    },
    {
     "data": {
      "image/png": "[encoded data removed]",
      "text/plain": [
       "<Figure size 1200x741.643 with 3 Axes>"
      ]
     },
     "metadata": {},
     "output_type": "display_data"
    }
   ],
   "source": [
    "env.plot_inference(b, b_hat, b_hat_bin)"
   ]
  },
  {
   "cell_type": "markdown",
   "id": "5b0f0d56-ec2e-4702-899c-9694cfed9eaa",
   "metadata": {},
   "source": [
    "## test model, learning "
   ]
  },
  {
   "cell_type": "code",
   "execution_count": 71,
   "id": "5d083bed-071c-4ec5-bc52-af18108c13b2",
   "metadata": {},
   "outputs": [
    {
     "name": "stdout",
     "output_type": "stream",
     "text": [
      "145 ms ± 30.9 ms per loop (mean ± std. dev. of 7 runs, 10 loops each)\n"
     ]
    }
   ],
   "source": [
    "%%timeit\n",
    "accuracy, TP, TN = env.test_model(PG, PG)"
   ]
  },
  {
   "cell_type": "code",
   "execution_count": 72,
   "id": "653935b2-4ad1-4a6b-8bff-d5bb0279af8a",
   "metadata": {},
   "outputs": [
    {
     "name": "stdout",
     "output_type": "stream",
     "text": [
      "accuracy=100.00%, TP=97.73%, TN=100.00%\n"
     ]
    }
   ],
   "source": [
    "accuracy, TP, TN = env.test_model(PG, PG)\n",
    "print(f'accuracy={accuracy.item()*100:.2f}%, TP={TP.item()*100:.2f}%, TN={TN.item()*100:.2f}%')"
   ]
  },
  {
   "cell_type": "markdown",
   "id": "1176a73f-9aaf-4581-aff1-fef7d8ca5568",
   "metadata": {},
   "source": [
    "## Figure 1"
   ]
  },
  {
   "cell_type": "code",
   "execution_count": 73,
   "id": "150f9909-f630-4d1e-b81a-e8df61e4fb86",
   "metadata": {},
   "outputs": [],
   "source": [
    "N_PGs = 4\n",
    "opt_fig1 = Params(  datetag = datetag + '_fig1',\n",
    "                    N_pre = 10, \n",
    "                    N_PGs = N_PGs,\n",
    "                    N_PG_time = 71,\n",
    "                    p_PG = .07,\n",
    "                    p_A = 0.01,\n",
    "                    p_B = 0.001,\n",
    "                    N_PG_show = N_PGs,\n",
    "                    N_trials = 1,\n",
    "                    N_time = 240,\n",
    "                    seed = 2373,\n",
    "                    fig_width = 3.25,\n",
    "                    )\n",
    "                    \n",
    "env_fig1 = ABCD(opt_fig1)\n",
    "# a, b, PG = env_fig1.generative_model()\n",
    "PG = env_fig1.set_PG(seed=opt_fig1.seed)\n",
    "b = env_fig1.get_b(seed=opt_fig1.seed+1)"
   ]
  },
  {
   "cell_type": "code",
   "execution_count": 74,
   "id": "e4ebc802-70e0-4f34-9965-bd96a2ee629f",
   "metadata": {},
   "outputs": [
    {
     "data": {
      "text/plain": [
       "(Params(datetag='2022-11-23_fig1', N_pre=10, N_PG_time=71, N_PGs=4, E_PG=4.0, p_PG=0.07, tau_decay=0.4, tau_rise=0.05, N_time=240, N_trials=1, p_B=0.001, p_A=0.01, seed=2373, verbose=False, fig_width=3.25, phi=1.61803, N_PG_show=4),\n",
       " Params(datetag='2022-11-23_fig1', N_pre=10, N_PG_time=71, N_PGs=4, E_PG=4.0, p_PG=0.07, tau_decay=0.4, tau_rise=0.05, N_time=240, N_trials=1, p_B=0.001, p_A=0.01, seed=2373, verbose=False, fig_width=3.25, phi=1.61803, N_PG_show=4),\n",
       " 10,\n",
       " 4)"
      ]
     },
     "execution_count": 74,
     "metadata": {},
     "output_type": "execute_result"
    }
   ],
   "source": [
    "opt_fig1, env_fig1.opt, env_fig1.opt.N_pre, env_fig1.opt.N_PGs\n"
   ]
  },
  {
   "cell_type": "code",
   "execution_count": 75,
   "id": "fd2a317e",
   "metadata": {},
   "outputs": [
    {
     "data": {
      "text/plain": [
       "(10, 4, 71)"
      ]
     },
     "execution_count": 75,
     "metadata": {},
     "output_type": "execute_result"
    }
   ],
   "source": [
    "env_fig1.opt.N_pre, env_fig1.opt.N_PGs, env_fig1.opt.N_PG_time"
   ]
  },
  {
   "cell_type": "code",
   "execution_count": 76,
   "id": "d85f4976-f188-4fb5-87da-f133ee654fa3",
   "metadata": {},
   "outputs": [],
   "source": [
    "subplotpars_fig1 = matplotlib.figure.SubplotParams(left=0., right=1., bottom=0., top=1., wspace=0.25, hspace=0.20,)\n",
    "\n",
    "figsize = (env_fig1.opt.fig_width, env_fig1.opt.fig_width/env_fig1.opt.phi)\n",
    "colors = ['r', 'g' , 'b' , 'm']"
   ]
  },
  {
   "cell_type": "code",
   "execution_count": 77,
   "id": "1d0f5ab4-ad12-4570-bc5e-b43fa9ab5950",
   "metadata": {},
   "outputs": [
    {
     "data": {
      "text/plain": [
       "torch.Size([1, 4, 240])"
      ]
     },
     "execution_count": 77,
     "metadata": {},
     "output_type": "execute_result"
    }
   ],
   "source": [
    "#b[0, 3, 350] = True\n",
    "#b[0, 2, 350] = True\n",
    "#b[0, 1, 150] = True\n",
    "b[0, 0, 50] = True\n",
    "b[0, 3, 180] = True\n",
    "#b[0, 3, 42] = True\n",
    "b[0, 1, 201] = True\n",
    "b[0, 1, 114] = True\n",
    "b[0, 2, 42] = True\n",
    "b[0, 2, 104] = True\n",
    "#b[0, 0, 50] = True\n",
    "b.shape"
   ]
  },
  {
   "cell_type": "code",
   "execution_count": 78,
   "id": "0ab69510",
   "metadata": {},
   "outputs": [
    {
     "data": {
      "text/plain": [
       "torch.Size([10, 4, 71])"
      ]
     },
     "execution_count": 78,
     "metadata": {},
     "output_type": "execute_result"
    }
   ],
   "source": [
    "PG.shape"
   ]
  },
  {
   "cell_type": "code",
   "execution_count": 79,
   "id": "d57b892f",
   "metadata": {},
   "outputs": [
    {
     "data": {
      "text/plain": [
       "(tensor(    0.000), tensor(7.163), tensor(-5.730), tensor(7.163))"
      ]
     },
     "execution_count": 79,
     "metadata": {},
     "output_type": "execute_result"
    }
   ],
   "source": [
    "PG.mean(), PG.abs().max(), PG.min(), PG.max()"
   ]
  },
  {
   "cell_type": "code",
   "execution_count": 92,
   "id": "27d211ce-660c-4465-9856-dfa6b856f136",
   "metadata": {},
   "outputs": [
    {
     "data": {
      "image/png": "[encoded data removed]",
      "text/plain": [
       "<Figure size 325x200.862 with 4 Axes>"
      ]
     },
     "metadata": {},
     "output_type": "display_data"
    }
   ],
   "source": [
    "fig, axs = env_fig1.plot_PG(PG, colors=colors, subplotpars=subplotpars_fig1)\n",
    "fig.text(-0.13, 1.05,'(b)', horizontalalignment='center', verticalalignment='center', weight='bold')\n",
    "if not figpath is None: printfig(fig, 'figure_1b.pdf')\n",
    "plt.show()"
   ]
  },
  {
   "cell_type": "markdown",
   "id": "c45e47f9-3924-4bc5-8aca-588d4c8bbb29",
   "metadata": {},
   "source": [
    "Then from the following raster plot, each PG described if the figure above will be selective to the spatio-temporal pattern of the same color: "
   ]
  },
  {
   "cell_type": "code",
   "execution_count": 81,
   "id": "b2eb570d",
   "metadata": {},
   "outputs": [
    {
     "data": {
      "image/png": "[encoded data removed]",
      "text/plain": [
       "<Figure size 325x200.862 with 1 Axes>"
      ]
     },
     "metadata": {},
     "output_type": "display_data"
    }
   ],
   "source": [
    "fig, ax = env_fig1.plot_b(b, colors=colors, yticks=env_fig1.opt.N_PGs)"
   ]
  },
  {
   "cell_type": "code",
   "execution_count": 90,
   "id": "6b9b9bab-3c77-4aad-9fb5-59a52b842112",
   "metadata": {},
   "outputs": [
    {
     "data": {
      "image/png": "[encoded data removed]",
      "text/plain": [
       "<Figure size 325x200.862 with 1 Axes>"
      ]
     },
     "metadata": {},
     "output_type": "display_data"
    }
   ],
   "source": [
    "fig, ax = env_fig1.plot_b(b, colors=colors, figsize=figsize, subplotpars=subplotpars_fig1, yticks=env_fig1.opt.N_PGs)\n",
    "fig.text(-0.13, 0.95,'(c)', horizontalalignment='center', verticalalignment='center', weight='bold')\n",
    "\n",
    "if not figpath is None: printfig(fig, 'figure_1c')"
   ]
  },
  {
   "cell_type": "markdown",
   "id": "78122510-720c-4a35-b921-b01f75ccc465",
   "metadata": {},
   "source": [
    "It results in the following activation of the postsynaptic neurons (activation probability with a Bernoullin trial):"
   ]
  },
  {
   "cell_type": "code",
   "execution_count": 83,
   "id": "20b1de1e",
   "metadata": {},
   "outputs": [
    {
     "data": {
      "text/plain": [
       "(10, torch.Size([10, 144, 1024]), torch.Size([1, 4, 240]))"
      ]
     },
     "execution_count": 83,
     "metadata": {},
     "output_type": "execute_result"
    }
   ],
   "source": [
    "env_fig1.opt.N_pre, a.shape, b.shape"
   ]
  },
  {
   "cell_type": "code",
   "execution_count": 84,
   "id": "1beb8304",
   "metadata": {},
   "outputs": [],
   "source": [
    "a = env_fig1.draw_a(b, PG)"
   ]
  },
  {
   "cell_type": "code",
   "execution_count": 89,
   "id": "76885744-43b7-4067-84cd-bbcb464d0ab7",
   "metadata": {},
   "outputs": [
    {
     "data": {
      "image/png": "[encoded data removed]",
      "text/plain": [
       "<Figure size 325x200.862 with 1 Axes>"
      ]
     },
     "metadata": {},
     "output_type": "display_data"
    },
    {
     "data": {
      "image/png": "[encoded data removed]",
      "text/plain": [
       "<Figure size 325x200.862 with 1 Axes>"
      ]
     },
     "metadata": {},
     "output_type": "display_data"
    }
   ],
   "source": [
    "for suff in ['_k', '']:\n",
    "    fig, ax = env_fig1.plot_a(a, b, PG, colors=colors if suff=='' else ['k'], figsize=figsize, subplotpars=subplotpars_fig1, yticks=env_fig1.opt.N_pre)\n",
    "    \n",
    "    if not figpath is None: \n",
    "        fig.text(-0.13, 0.95, '(a)' if suff=='_k' else '(d)', horizontalalignment='center', verticalalignment='center', weight='bold')\n",
    "        printfig(fig, 'figure_1a' + suff)\n",
    "    else:\n",
    "        fig.text(0.03, 0.95,'(before)' if suff=='_k' else '(after)', horizontalalignment='center', verticalalignment='center', weight='bold')\n",
    "\n",
    "    plt.show()"
   ]
  },
  {
   "cell_type": "markdown",
   "id": "d2d19699-7afd-44b6-af46-d21d84712b4d",
   "metadata": {},
   "source": [
    "TODO: montrer des PGs générant des vagues, du bruit de Poisson, des one-spike per neuron, ..."
   ]
  },
  {
   "cell_type": "markdown",
   "id": "158b51df-c7c8-4981-84f9-00d742fee70b",
   "metadata": {
    "tags": []
   },
   "source": [
    "## scanning parameters"
   ]
  },
  {
   "cell_type": "code",
   "execution_count": null,
   "id": "8850581b-7e7e-4824-8470-b7b8067739cf",
   "metadata": {},
   "outputs": [],
   "source": [
    "%mkdir -p data_cache"
   ]
  },
  {
   "cell_type": "code",
   "execution_count": null,
   "id": "5b2b9e6e-b1e5-49f2-9a46-79694c7884da",
   "metadata": {},
   "outputs": [],
   "source": [
    "opt_scan = Params()\n",
    "opt_scan.datetag"
   ]
  },
  {
   "cell_type": "code",
   "execution_count": null,
   "id": "435b4305",
   "metadata": {},
   "outputs": [],
   "source": [
    "opt_scan.N_time = 2**14\n",
    "opt_scan.N_time"
   ]
  },
  {
   "cell_type": "code",
   "execution_count": null,
   "id": "c9db5180-60e7-4b6f-84e3-483d09d15b52",
   "metadata": {},
   "outputs": [],
   "source": [
    "%ls data_cache/{opt.datetag}_scan_*.json"
   ]
  },
  {
   "cell_type": "code",
   "execution_count": null,
   "id": "b3882b67-a689-4e2c-ab98-7a446c5d5ccc",
   "metadata": {},
   "outputs": [],
   "source": [
    "# %rm -f data_cache/{datetag}_scan_*.json"
   ]
  },
  {
   "cell_type": "code",
   "execution_count": null,
   "id": "065a2ebf-4dd6-48e0-a885-c527fe358c96",
   "metadata": {},
   "outputs": [],
   "source": [
    "scan_dicts= {'N_PGs' : [8, 13, 21, 34, 55, 89, 144, 233, 377, 610, 987, 1364, 2351],\n",
    "             'N_PG_time' : [1, 3, 7, 15, 31, 63, 127],\n",
    "             'N_pre' : [8, 13, 21, 34, 55, 89, 144, 233, 377, 610, 987, 1364, 2351],\n",
    "            }\n",
    "\n",
    "label_dicts= {'N_PGs' : 'number of PGs',\n",
    "             'N_PG_time' : 'duration of PGs',\n",
    "             'N_pre' : 'number of presynaptic inputs',\n",
    "            }\n",
    "import os\n",
    "import time\n",
    "import pandas as pd\n",
    "import numpy as np\n",
    "\n",
    "N_cv = 10\n",
    "seed = 1000 # np.random.randint(1000)\n",
    "verb = False\n",
    "\n",
    "for key in scan_dicts:\n",
    "    filename = f'data_cache/{opt.datetag}_scan_{key}.json'\n",
    "    print(f'{filename=}')\n",
    "    if os.path.isfile(filename):\n",
    "        df_scan = pd.read_json(filename)\n",
    "    else:\n",
    "        measure_columns = [key, 'accuracy', 'TP', 'TN', 'time']\n",
    "        df_scan = pd.DataFrame([], columns=measure_columns)\n",
    "        i_loc = 0\n",
    "        for i_value, value in enumerate(scan_dicts[key]):\n",
    "            if verb: print('i_value', i_value + 1, ' /', len(scan_dicts[key]), end='\\t')\n",
    "\n",
    "            for i_cv in  range(N_cv):\n",
    "                # tic\n",
    "                since = time.time()\n",
    "                new_dict = asdict(opt)\n",
    "                # print(key, value)\n",
    "                new_dict[key] = value\n",
    "                new_opt = Params(**new_dict)\n",
    "                # print(new_opt)\n",
    "                # make a new model\n",
    "                new_env = ABCD(new_opt)\n",
    "                # draw a new set of PGs\n",
    "                PG = new_env.set_PG(seed=seed+i_loc)\n",
    "                # test it\n",
    "                accuracy, TP, TN = new_env.test_model(PG, PG, seed=seed+i_loc)\n",
    "                # toc\n",
    "                elapsed_time = time.time() - since\n",
    "                df_scan.loc[i_loc] = {key:value, 'accuracy':accuracy.item(), 'TP':TP.item(), 'TN':TN.item(), 'time':elapsed_time}\n",
    "                i_loc += 1\n",
    "                if verb: print(f\" - One pass completed in {elapsed_time // 60:.0f}m {elapsed_time % 60:.0f}s\")\n",
    "\n",
    "        df_scan.to_json(filename)\n",
    "    print(df_scan)"
   ]
  },
  {
   "cell_type": "code",
   "execution_count": null,
   "id": "0f7257b4-f640-4500-9cb5-ea68e11ad96e",
   "metadata": {},
   "outputs": [],
   "source": [
    "import matplotlib.pyplot as plt\n",
    "for key in scan_dicts:\n",
    "    filename = f'data_cache/{datetag}_scan_{key}.json'\n",
    "    df_scan = pd.read_json(filename)\n",
    "    print(df_scan)\n",
    "    #for acc in ['TP', 'TN']\n",
    "    #ax = df_scan.plot.scatter(x=key, y=['TP'], alpha=.1)\n",
    "    #ax = df_scan.boxplot(column=key)\n",
    "    # https://pandas.pydata.org/pandas-docs/stable/user_guide/visualization.html?highlight=errorbar#visualization-errorbars\n",
    "    gp_scan = df_scan[[key, 'TP']].groupby([key])\n",
    "    means = gp_scan.mean()\n",
    "    errors = gp_scan.std()\n",
    "    fig, ax = plt.subplots(figsize=(opt.fig_width, opt.fig_width), subplotpars=subplotpars)\n",
    "    means.plot.bar(yerr=errors, ax=ax, capsize=4, rot=-60, legend=False)\n",
    "    ax.set_ylabel('Accuracy')\n",
    "    ax.set_xlabel(label_dicts[key])\n",
    "    #ax.set_xscale('log')\n",
    "    ax.set_ylim(0, 1)\n",
    "    #fig = ax.get_figure()\n",
    "    if not figpath is None: printfig(fig, 'figure_' + key)\n",
    "    plt.show()"
   ]
  },
  {
   "cell_type": "markdown",
   "id": "f10e7955-232f-4622-af7c-1247a356ceab",
   "metadata": {
    "tags": []
   },
   "source": [
    "# Online clustering"
   ]
  },
  {
   "cell_type": "markdown",
   "id": "5e890acb-9ea6-4867-a4fb-219e3382f85b",
   "metadata": {
    "tags": []
   },
   "source": [
    "## testing inference with wrong PGs "
   ]
  },
  {
   "cell_type": "code",
   "execution_count": null,
   "id": "a9a78735",
   "metadata": {},
   "outputs": [],
   "source": [
    "opt\n",
    "opt.N_PG_time = 25\n",
    "opt.N_trials = 256\n",
    "opt.N_PGs = 10"
   ]
  },
  {
   "cell_type": "code",
   "execution_count": null,
   "id": "e72e77f2-4bd8-494c-b142-31cdd9c630ab",
   "metadata": {},
   "outputs": [],
   "source": [
    "env = ABCD(opt)\n",
    "env.opt"
   ]
  },
  {
   "cell_type": "code",
   "execution_count": null,
   "id": "791747fe-e1d4-4675-be84-35278201df0f",
   "metadata": {},
   "outputs": [],
   "source": [
    "accuracy, TP, TN = env.test_model(PG=env.set_PG(seed=42), PG_true=env.set_PG(seed=42))\n",
    "print(f'accuracy={accuracy.item()*100:.2f}%, TP={TP.item()*100:.2f}%, TN={TN.item()*100:.2f}%')"
   ]
  },
  {
   "cell_type": "code",
   "execution_count": null,
   "id": "28dd1ac9-fdba-4822-a1da-002e2a094143",
   "metadata": {},
   "outputs": [],
   "source": [
    "accuracy, TP, TN = env.test_model(PG=env.set_PG(seed=51), PG_true=env.set_PG(seed=42))\n",
    "print(f'accuracy={accuracy.item()*100:.2f}%, TP={TP.item()*100:.2f}%, TN={TN.item()*100:.2f}%')"
   ]
  },
  {
   "cell_type": "markdown",
   "id": "c7695cbd-68c1-44c7-818b-04269e117d2b",
   "metadata": {
    "tags": []
   },
   "source": [
    "## learning "
   ]
  },
  {
   "cell_type": "code",
   "execution_count": null,
   "id": "769446ad-8535-41d5-9f82-f33b9a8531b9",
   "metadata": {},
   "outputs": [],
   "source": [
    "PG_true = env.set_PG(seed=42)\n",
    "\n",
    "class Net(torch.nn.Module):\n",
    "    def __init__(self, N_pre, N_PGs, N_PG_time):\n",
    "        super(Net, self).__init__()\n",
    "        self.N_pre, self.N_PGs, self.N_PG_time = N_pre, N_PGs, N_PG_time\n",
    "        # https://pytorch.org/docs/master/generated/torch.nn.ConvTranspose1d.html#torch.nn.ConvTranspose1d\n",
    "        self.convT = torch.nn.ConvTranspose1d(self.N_pre, self.N_PGs, self.N_PG_time, \n",
    "                                              padding=self.N_PG_time//2, bias=False)\n",
    "        self.sigma = torch.nn.Sigmoid()\n",
    "\n",
    "    def forward(self, a):\n",
    "        # N_trials, N_pre, N_time = a.shape\n",
    "        b_hat = self.convT(a*1.)\n",
    "        # N_trials, N_PGs, N_time = b_hat.shape\n",
    "        return self.sigma(b_hat)\n",
    "\n",
    "def learn_model(env, PG, PG_true, N_learnsteps=2**12, \n",
    "                #N_time=1000, # N_time_blur=200, \n",
    "                lmbda=.001, p_B=opt.p_B, do_stochastic=False,\n",
    "                lr=0.01, seed=None, seed_offset=5, do_supervised=False):\n",
    "    if seed is None: seed = opt.seed + seed_offset\n",
    "    torch.manual_seed(seed)\n",
    "    \n",
    "    N_pre, N_PGs, N_PG_time = PG.shape\n",
    "\n",
    "    # https://pytorch.org/docs/master/generated/torch.nn.BCEWithLogitsLoss.html\n",
    "    criterion = torch.nn.BCEWithLogitsLoss()\n",
    "    # https://pytorch.org/docs/master/generated/torch.nn.BCELoss.html\n",
    "    # criterion = torch.nn.BCELoss()\n",
    "    criterion_reg = torch.nn.BCELoss()\n",
    "\n",
    "    model = Net(N_pre, N_PGs, N_PG_time)\n",
    "    model = model.to(device)\n",
    "\n",
    "    PG_true = PG_true.to(device)\n",
    "\n",
    "    #optimizer = torch.optim.Adadelta(model.parameters(), lr=lr)\n",
    "    optimizer = torch.optim.Adam(model.parameters(), lr=lr)\n",
    "\n",
    "    for i_step in range(N_learnsteps):\n",
    "        # draw causes (PGs) - hidden to the observer\n",
    "        b_true = env.get_b(seed=seed+i_step).to(device)\n",
    "        # generate the corresponding raster plot = what is observed\n",
    "        a = env.draw_a(b_true, PG_true, seed=seed+i_step+1).to(device)\n",
    "        # print('A', a.min().item(), a.max().item())\n",
    "\n",
    "        # learn the PGs\n",
    "        optimizer.zero_grad()\n",
    "        if do_supervised: # supervised learning\n",
    "            b_hat_bin = 1. * b_true\n",
    "        else:\n",
    "            b_hat = model(a)\n",
    "            if do_stochastic:\n",
    "                b_hat_bin = torch.bernoulli(model(a))\n",
    "            else:\n",
    "                b_threshold = torch.quantile(b_hat.ravel()[:10000000], 1-env.opt.p_B)\n",
    "                b_hat_bin = (b_hat > b_threshold) * 1.\n",
    "        \n",
    "        \n",
    "        # TODO: make a threshold per PG\n",
    "        a_hat = env.model_a_logit(b_hat_bin, model.convT.weight)\n",
    "        # print('A', a_hat.min().item(), a_hat.max().item(), a.min().item(), a.max().item())\n",
    "        # print('B', b_hat.min().item(), b_hat.max().item(), b_hat_bin.min().item(), b_hat_bin.max().item())\n",
    "        loss = criterion(a_hat, a*1.)\n",
    "\n",
    "        loss += lmbda * criterion_reg(b_hat_bin.mean(axis=(0, 2)), p_B*torch.ones(N_PGs))\n",
    "        \n",
    "        loss.backward()\n",
    "        optimizer.step()\n",
    "\n",
    "        # b_hat = b_hat.cpu()\n",
    "        # b_true = b_true.cpu()\n",
    "        # b_hat_bin = b_hat_bin.to(device)\n",
    "        if i_step % (N_learnsteps//64) == 0:\n",
    "            print(f'Train Epoch [{i_step:06d}/{N_learnsteps:06d}]\\tLoss: {loss.item():.6f}\\tAccuracy: {torch.mean((b_hat_bin == b_true)*1.):.6f}\\tTP: {torch.mean(b_hat_bin[b_true==1]*1.):.6f}')\n",
    "    return model"
   ]
  },
  {
   "cell_type": "code",
   "execution_count": null,
   "id": "2755507b",
   "metadata": {},
   "outputs": [],
   "source": [
    "subplotpars_learn = matplotlib.figure.SubplotParams(left=0.125, right=.95, bottom=0.25, top=.975, wspace=0.05, hspace=0.05,)\n"
   ]
  },
  {
   "cell_type": "code",
   "execution_count": null,
   "id": "db83c85f",
   "metadata": {},
   "outputs": [],
   "source": [
    "fig, axs = env.plot_PG(PG_true, colors=colors, N_PG_show=4, subplotpars=subplotpars_learn)"
   ]
  },
  {
   "cell_type": "code",
   "execution_count": null,
   "id": "f7eae9ab-5dc3-4012-80c0-6b11956e3f54",
   "metadata": {},
   "outputs": [],
   "source": [
    "PG_start = env.set_PG(seed=51)\n",
    "PG_start = env.opt.E_PG * torch.randn(env.opt.N_pre, env.opt.N_PGs, env.opt.N_PG_time)\n",
    "N_pre, N_PGs, N_PG_time = PG_start.shape\n",
    "model = Net(N_pre, N_PGs, N_PG_time)"
   ]
  },
  {
   "cell_type": "code",
   "execution_count": null,
   "id": "db83c85f",
   "metadata": {},
   "outputs": [],
   "source": [
    "fig, axs = env.plot_PG(PG_start, colors=colors, N_PG_show=4, subplotpars=subplotpars_learn)"
   ]
  },
  {
   "cell_type": "code",
   "execution_count": null,
   "id": "0facdaf5-5d3f-4f4e-9948-6e4c24228d8b",
   "metadata": {},
   "outputs": [],
   "source": [
    "model = Net(N_pre, N_PGs, N_PG_time)"
   ]
  },
  {
   "cell_type": "code",
   "execution_count": null,
   "id": "e420b413-e47b-4956-9c45-58baf02db2e2",
   "metadata": {},
   "outputs": [],
   "source": [
    "model.convT.weight.shape"
   ]
  },
  {
   "cell_type": "code",
   "execution_count": null,
   "id": "caf0fb1a",
   "metadata": {},
   "outputs": [],
   "source": [
    "b_true = env.get_b(seed=seed).to(device)\n",
    "# generate the corresponding raster plot = what is observed\n",
    "a = env.draw_a(b_true, PG_true.to(device), seed=seed+1)\n",
    "a.min(), a.max()"
   ]
  },
  {
   "cell_type": "code",
   "execution_count": null,
   "id": "32cb2463-191c-4a8b-a385-d4eeb2db3715",
   "metadata": {
    "tags": []
   },
   "outputs": [],
   "source": [
    "model = learn_model(env, PG_start, PG_true, do_supervised=True, N_learnsteps=2**10)"
   ]
  },
  {
   "cell_type": "code",
   "execution_count": null,
   "id": "eae8531f",
   "metadata": {},
   "outputs": [],
   "source": [
    "PG_hat = model.convT.weight.detach().cpu().numpy()\n",
    "print(PG_hat.min(), PG_hat.mean(), PG_hat.max())"
   ]
  },
  {
   "cell_type": "code",
   "execution_count": null,
   "id": "2755507b",
   "metadata": {},
   "outputs": [],
   "source": [
    "fig, axs = env.plot_PG(PG_hat, colors=colors, N_PG_show=4, subplotpars=subplotpars_learn)"
   ]
  },
  {
   "cell_type": "code",
   "execution_count": null,
   "id": "293cb128",
   "metadata": {},
   "outputs": [],
   "source": [
    "plt.matshow((PG_hat[:, None, :, :] * PG_true.numpy()[:, :, None, :]).mean(axis=(0, -1)));"
   ]
  },
  {
   "cell_type": "code",
   "execution_count": null,
   "id": "32cb2463-191c-4a8b-a385-d4eeb2db3715",
   "metadata": {
    "tags": []
   },
   "outputs": [],
   "source": [
    "model = learn_model(env, PG_start, PG_true, do_supervised=False)"
   ]
  },
  {
   "cell_type": "code",
   "execution_count": null,
   "id": "eae8531f",
   "metadata": {},
   "outputs": [],
   "source": [
    "PG_hat = model.convT.weight.detach().cpu().numpy()\n",
    "print(PG_hat.min(), PG_hat.mean(), PG_hat.max())"
   ]
  },
  {
   "cell_type": "code",
   "execution_count": null,
   "id": "2755507b",
   "metadata": {},
   "outputs": [],
   "source": [
    "fig, axs = env.plot_PG(PG_hat, colors=colors, N_PG_show=4, subplotpars=subplotpars_learn)"
   ]
  },
  {
   "cell_type": "code",
   "execution_count": null,
   "id": "2755507b",
   "metadata": {},
   "outputs": [],
   "source": [
    "fig, axs = env.plot_PG(PG_hat, N_PG_show=10, subplotpars=subplotpars_learn)"
   ]
  },
  {
   "cell_type": "code",
   "execution_count": null,
   "id": "41f48fa0",
   "metadata": {},
   "outputs": [],
   "source": [
    "PG_true = PG_true.numpy()"
   ]
  },
  {
   "cell_type": "code",
   "execution_count": null,
   "id": "834b0e63",
   "metadata": {},
   "outputs": [],
   "source": [
    "PG_hat.shape, PG_true.shape"
   ]
  },
  {
   "cell_type": "code",
   "execution_count": null,
   "id": "293cb128",
   "metadata": {},
   "outputs": [],
   "source": [
    "plt.matshow((PG_hat[:, None, :, :] * PG_true.numpy()[:, :, None, :]).mean(axis=(0, -1)))"
   ]
  },
  {
   "cell_type": "markdown",
   "id": "1440eb0d-79d0-4985-871d-ebe1c032ca1b",
   "metadata": {},
   "source": [
    "# Annex"
   ]
  }
 ],
 "metadata": {
  "kernelspec": {
   "display_name": "torch",
   "language": "python",
   "name": "python3"
  },
  "language_info": {
   "codemirror_mode": {
    "name": "ipython",
    "version": 3
   },
   "file_extension": ".py",
   "mimetype": "text/x-python",
   "name": "python",
   "nbconvert_exporter": "python",
   "pygments_lexer": "ipython3",
   "version": "3.10.8"
  },
  "toc-autonumbering": true,
  "vscode": {
   "interpreter": {
    "hash": "c7f31bdcd3184b28996d7be632b4be06bc948af160aefb21d22e4bdeae7f3a3d"
   }
  }
 },
 "nbformat": 4,
 "nbformat_minor": 5
}
